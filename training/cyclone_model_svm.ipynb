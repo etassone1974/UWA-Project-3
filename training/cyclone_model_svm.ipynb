{
 "metadata": {
  "language_info": {
   "codemirror_mode": {
    "name": "ipython",
    "version": 3
   },
   "file_extension": ".py",
   "mimetype": "text/x-python",
   "name": "python",
   "nbconvert_exporter": "python",
   "pygments_lexer": "ipython3",
   "version": "3.7.1-final"
  },
  "orig_nbformat": 2,
  "kernelspec": {
   "name": "python3",
   "display_name": "Python 3",
   "language": "python"
  }
 },
 "nbformat": 4,
 "nbformat_minor": 2,
 "cells": [
  {
   "cell_type": "code",
   "execution_count": 2,
   "metadata": {},
   "outputs": [],
   "source": [
    "from sklearn.model_selection import train_test_split\n",
    "from sklearn.preprocessing import MinMaxScaler\n",
    "from sklearn.preprocessing import StandardScaler\n",
    "from sklearn.svm import SVC\n",
    "from sklearn.model_selection import GridSearchCV\n",
    "from sklearn.metrics import accuracy_score\n",
    "import joblib\n",
    "import numpy as np\n",
    "import pandas as pd\n",
    "import matplotlib.pyplot as plt"
   ]
  },
  {
   "cell_type": "code",
   "execution_count": 18,
   "metadata": {},
   "outputs": [
    {
     "output_type": "stream",
     "name": "stdout",
     "text": [
      "(1691, 6) (1691,)\n"
     ]
    }
   ],
   "source": [
    "    # Read data into DataFrame from CSV file\n",
    "    cyclone_df = pd.read_csv(\"Cyclone_ML.csv\")\n",
    "\n",
    "    # Select features for machine learning and assign to X\n",
    "    selected_features = cyclone_df[[\"SURFACE_CODE\",\t\"CYC_TYPE\", \"LAT\", \"LON\", \"CENTRAL_PRES\", \"MAX_WIND_SPD\"]]\n",
    "    X = selected_features\n",
    "\n",
    "    # Set y to compass direction of cyclone based on wind direction degree\n",
    "    y = cyclone_df[\"WIND_COMPASS\"]\n",
    "\n",
    "    print(X.shape, y.shape)"
   ]
  },
  {
   "cell_type": "code",
   "execution_count": 19,
   "metadata": {},
   "outputs": [
    {
     "output_type": "execute_result",
     "data": {
      "text/plain": [
       "      SURFACE_CODE  CYC_TYPE    LAT     LON  CENTRAL_PRES  MAX_WIND_SPD\n",
       "0              1.0      20.0 -11.00   92.60        1001.0          12.9\n",
       "1              1.0      20.0 -11.10   93.10        1002.0          12.9\n",
       "2              1.0      20.0 -11.10   94.20        1003.0          12.9\n",
       "3              1.0      20.0 -11.10   94.60        1000.0          12.9\n",
       "4              1.0      20.0 -11.20   95.00        1002.0          12.9\n",
       "...            ...       ...    ...     ...           ...           ...\n",
       "1686           2.0      30.0 -14.30  126.40         986.0          20.6\n",
       "1687           4.0      21.0 -12.73  130.61         999.0          20.6\n",
       "1688           2.0      30.0 -12.54  130.72         993.0          18.0\n",
       "1689           2.0      30.0 -12.41  130.99         995.0          18.0\n",
       "1690           2.0      30.0 -12.54  130.98         994.0          20.6\n",
       "\n",
       "[1691 rows x 6 columns]"
      ],
      "text/html": "<div>\n<style scoped>\n    .dataframe tbody tr th:only-of-type {\n        vertical-align: middle;\n    }\n\n    .dataframe tbody tr th {\n        vertical-align: top;\n    }\n\n    .dataframe thead th {\n        text-align: right;\n    }\n</style>\n<table border=\"1\" class=\"dataframe\">\n  <thead>\n    <tr style=\"text-align: right;\">\n      <th></th>\n      <th>SURFACE_CODE</th>\n      <th>CYC_TYPE</th>\n      <th>LAT</th>\n      <th>LON</th>\n      <th>CENTRAL_PRES</th>\n      <th>MAX_WIND_SPD</th>\n    </tr>\n  </thead>\n  <tbody>\n    <tr>\n      <th>0</th>\n      <td>1.0</td>\n      <td>20.0</td>\n      <td>-11.00</td>\n      <td>92.60</td>\n      <td>1001.0</td>\n      <td>12.9</td>\n    </tr>\n    <tr>\n      <th>1</th>\n      <td>1.0</td>\n      <td>20.0</td>\n      <td>-11.10</td>\n      <td>93.10</td>\n      <td>1002.0</td>\n      <td>12.9</td>\n    </tr>\n    <tr>\n      <th>2</th>\n      <td>1.0</td>\n      <td>20.0</td>\n      <td>-11.10</td>\n      <td>94.20</td>\n      <td>1003.0</td>\n      <td>12.9</td>\n    </tr>\n    <tr>\n      <th>3</th>\n      <td>1.0</td>\n      <td>20.0</td>\n      <td>-11.10</td>\n      <td>94.60</td>\n      <td>1000.0</td>\n      <td>12.9</td>\n    </tr>\n    <tr>\n      <th>4</th>\n      <td>1.0</td>\n      <td>20.0</td>\n      <td>-11.20</td>\n      <td>95.00</td>\n      <td>1002.0</td>\n      <td>12.9</td>\n    </tr>\n    <tr>\n      <th>...</th>\n      <td>...</td>\n      <td>...</td>\n      <td>...</td>\n      <td>...</td>\n      <td>...</td>\n      <td>...</td>\n    </tr>\n    <tr>\n      <th>1686</th>\n      <td>2.0</td>\n      <td>30.0</td>\n      <td>-14.30</td>\n      <td>126.40</td>\n      <td>986.0</td>\n      <td>20.6</td>\n    </tr>\n    <tr>\n      <th>1687</th>\n      <td>4.0</td>\n      <td>21.0</td>\n      <td>-12.73</td>\n      <td>130.61</td>\n      <td>999.0</td>\n      <td>20.6</td>\n    </tr>\n    <tr>\n      <th>1688</th>\n      <td>2.0</td>\n      <td>30.0</td>\n      <td>-12.54</td>\n      <td>130.72</td>\n      <td>993.0</td>\n      <td>18.0</td>\n    </tr>\n    <tr>\n      <th>1689</th>\n      <td>2.0</td>\n      <td>30.0</td>\n      <td>-12.41</td>\n      <td>130.99</td>\n      <td>995.0</td>\n      <td>18.0</td>\n    </tr>\n    <tr>\n      <th>1690</th>\n      <td>2.0</td>\n      <td>30.0</td>\n      <td>-12.54</td>\n      <td>130.98</td>\n      <td>994.0</td>\n      <td>20.6</td>\n    </tr>\n  </tbody>\n</table>\n<p>1691 rows × 6 columns</p>\n</div>"
     },
     "metadata": {},
     "execution_count": 19
    }
   ],
   "source": [
    "X"
   ]
  },
  {
   "cell_type": "code",
   "execution_count": 20,
   "metadata": {},
   "outputs": [
    {
     "output_type": "execute_result",
     "data": {
      "text/plain": [
       "0        E\n",
       "1        E\n",
       "2        S\n",
       "3       SW\n",
       "4        W\n",
       "        ..\n",
       "1686     W\n",
       "1687     N\n",
       "1688    SW\n",
       "1689    SW\n",
       "1690    SW\n",
       "Name: WIND_COMPASS, Length: 1691, dtype: object"
      ]
     },
     "metadata": {},
     "execution_count": 20
    }
   ],
   "source": [
    "y"
   ]
  },
  {
   "cell_type": "code",
   "execution_count": 26,
   "metadata": {},
   "outputs": [],
   "source": [
    "    # train test split\n",
    "    X_train, X_test, y_train, y_test = train_test_split(X, y, random_state=42)"
   ]
  },
  {
   "cell_type": "code",
   "execution_count": 27,
   "metadata": {},
   "outputs": [],
   "source": [
    "    X_scaler = StandardScaler().fit(X_train)\n",
    "    X_train_scaled = X_scaler.transform(X_train)\n",
    "    X_test_scaled = X_scaler.transform(X_test)"
   ]
  },
  {
   "cell_type": "code",
   "execution_count": 28,
   "metadata": {},
   "outputs": [
    {
     "output_type": "execute_result",
     "data": {
      "text/plain": [
       "SVC(kernel='linear')"
      ]
     },
     "metadata": {},
     "execution_count": 28
    }
   ],
   "source": [
    "    # Support vector machine linear classifier\n",
    "    model = SVC(kernel='linear')\n",
    "\n",
    "    # Fit the model to the training data and calculate the scores for the training and testing data\n",
    "    model.fit(X_train_scaled, y_train)"
   ]
  },
  {
   "cell_type": "code",
   "execution_count": 29,
   "metadata": {},
   "outputs": [
    {
     "output_type": "stream",
     "name": "stdout",
     "text": [
      "Training Data Score: 0.22634069400630916\nTesting Data Score: 0.2033096926713948\n"
     ]
    }
   ],
   "source": [
    "    training_score = model.score(X_train_scaled, y_train)\n",
    "    testing_score = model.score(X_test_scaled, y_test)\n",
    "    \n",
    "    print(f\"Training Data Score: {training_score}\")\n",
    "    print(f\"Testing Data Score: {testing_score}\")"
   ]
  },
  {
   "cell_type": "code",
   "execution_count": 30,
   "metadata": {},
   "outputs": [
    {
     "output_type": "stream",
     "name": "stdout",
     "text": [
      "Model accuracy on test set: 0.20\n"
     ]
    }
   ],
   "source": [
    "    preds = model.predict(X_test_scaled)\n",
    "    acc = accuracy_score(y_test, preds)\n",
    "    print(f'Model accuracy on test set: {acc:.2f}')"
   ]
  },
  {
   "cell_type": "code",
   "execution_count": null,
   "metadata": {},
   "outputs": [],
   "source": []
  }
 ]
}