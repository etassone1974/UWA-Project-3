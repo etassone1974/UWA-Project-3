{
 "metadata": {
  "language_info": {
   "codemirror_mode": {
    "name": "ipython",
    "version": 3
   },
   "file_extension": ".py",
   "mimetype": "text/x-python",
   "name": "python",
   "nbconvert_exporter": "python",
   "pygments_lexer": "ipython3",
   "version": "3.7.9-final"
  },
  "orig_nbformat": 2,
  "kernelspec": {
   "name": "python3",
   "display_name": "Python 3.7.9 64-bit ('PyBank3': conda)",
   "metadata": {
    "interpreter": {
     "hash": "234cddd55e5577e8e34cc9bbb2b3dbdf85c191fe3d3aa2805cd91ec6b696ecde"
    }
   }
  }
 },
 "nbformat": 4,
 "nbformat_minor": 2,
 "cells": [
  {
   "cell_type": "code",
   "execution_count": 4,
   "metadata": {},
   "outputs": [],
   "source": [
    "import pandas as pd\n",
    "import json"
   ]
  },
  {
   "cell_type": "code",
   "execution_count": 5,
   "metadata": {},
   "outputs": [
    {
     "output_type": "execute_result",
     "data": {
      "text/plain": [
       "         NAME                   TM TYPE  DATA_SRC  SURFACE_CODE  CYC_TYPE  \\\n",
       "0      ANNIE   1973-11-22 06:00:00    T       2.0           1.0      20.0   \n",
       "1      ANNIE   1973-11-22 12:00:00    T       2.0           1.0      20.0   \n",
       "2      ANNIE   1973-11-23 00:01:00    T       2.0           1.0      20.0   \n",
       "3      ANNIE   1973-11-23 06:00:00    T       2.0           1.0      20.0   \n",
       "4      ANNIE   1973-11-23 12:00:00    T       2.0           1.0      20.0   \n",
       "...       ...                  ...  ...       ...           ...       ...   \n",
       "1686  GEORGE   2007-03-04 18:00:00    T       3.0           2.0      30.0   \n",
       "1687  Carlos   2011-02-15 12:00:00    T       3.0           4.0      21.0   \n",
       "1688  Carlos   2011-02-15 21:00:00    T       3.0           2.0      30.0   \n",
       "1689  Carlos   2011-02-16 00:00:00    T       3.0           2.0      30.0   \n",
       "1690  Carlos   2011-02-16 09:00:00    T       3.0           2.0      30.0   \n",
       "\n",
       "        LAT     LON  CENTRAL_PRES  MAX_WIND_SPD  MAX_REP_WIND_DIR  \\\n",
       "0    -11.00   92.60        1001.0          12.9             100.0   \n",
       "1    -11.10   93.10        1002.0          12.9             110.0   \n",
       "2    -11.10   94.20        1003.0          12.9             160.0   \n",
       "3    -11.10   94.60        1000.0          12.9             210.0   \n",
       "4    -11.20   95.00        1002.0          12.9             250.0   \n",
       "...     ...     ...           ...           ...               ...   \n",
       "1686 -14.30  126.40         986.0          20.6             270.0   \n",
       "1687 -12.73  130.61         999.0          20.6             350.0   \n",
       "1688 -12.54  130.72         993.0          18.0             210.0   \n",
       "1689 -12.41  130.99         995.0          18.0             210.0   \n",
       "1690 -12.54  130.98         994.0          20.6             220.0   \n",
       "\n",
       "     WIND_COMPASS  CENTRAL_INDEX (CI)  \n",
       "0               E            2.064005  \n",
       "1               E            1.950454  \n",
       "2               S            1.829259  \n",
       "3              SW            2.171169  \n",
       "4               W            1.950454  \n",
       "...           ...                 ...  \n",
       "1686            W            3.306407  \n",
       "1687            N            2.272897  \n",
       "1688           SW            2.801605  \n",
       "1689           SW            2.638106  \n",
       "1690           SW            2.721184  \n",
       "\n",
       "[1691 rows x 13 columns]"
      ],
      "text/html": "<div>\n<style scoped>\n    .dataframe tbody tr th:only-of-type {\n        vertical-align: middle;\n    }\n\n    .dataframe tbody tr th {\n        vertical-align: top;\n    }\n\n    .dataframe thead th {\n        text-align: right;\n    }\n</style>\n<table border=\"1\" class=\"dataframe\">\n  <thead>\n    <tr style=\"text-align: right;\">\n      <th></th>\n      <th>NAME</th>\n      <th>TM</th>\n      <th>TYPE</th>\n      <th>DATA_SRC</th>\n      <th>SURFACE_CODE</th>\n      <th>CYC_TYPE</th>\n      <th>LAT</th>\n      <th>LON</th>\n      <th>CENTRAL_PRES</th>\n      <th>MAX_WIND_SPD</th>\n      <th>MAX_REP_WIND_DIR</th>\n      <th>WIND_COMPASS</th>\n      <th>CENTRAL_INDEX (CI)</th>\n    </tr>\n  </thead>\n  <tbody>\n    <tr>\n      <th>0</th>\n      <td>ANNIE</td>\n      <td>1973-11-22 06:00:00</td>\n      <td>T</td>\n      <td>2.0</td>\n      <td>1.0</td>\n      <td>20.0</td>\n      <td>-11.00</td>\n      <td>92.60</td>\n      <td>1001.0</td>\n      <td>12.9</td>\n      <td>100.0</td>\n      <td>E</td>\n      <td>2.064005</td>\n    </tr>\n    <tr>\n      <th>1</th>\n      <td>ANNIE</td>\n      <td>1973-11-22 12:00:00</td>\n      <td>T</td>\n      <td>2.0</td>\n      <td>1.0</td>\n      <td>20.0</td>\n      <td>-11.10</td>\n      <td>93.10</td>\n      <td>1002.0</td>\n      <td>12.9</td>\n      <td>110.0</td>\n      <td>E</td>\n      <td>1.950454</td>\n    </tr>\n    <tr>\n      <th>2</th>\n      <td>ANNIE</td>\n      <td>1973-11-23 00:01:00</td>\n      <td>T</td>\n      <td>2.0</td>\n      <td>1.0</td>\n      <td>20.0</td>\n      <td>-11.10</td>\n      <td>94.20</td>\n      <td>1003.0</td>\n      <td>12.9</td>\n      <td>160.0</td>\n      <td>S</td>\n      <td>1.829259</td>\n    </tr>\n    <tr>\n      <th>3</th>\n      <td>ANNIE</td>\n      <td>1973-11-23 06:00:00</td>\n      <td>T</td>\n      <td>2.0</td>\n      <td>1.0</td>\n      <td>20.0</td>\n      <td>-11.10</td>\n      <td>94.60</td>\n      <td>1000.0</td>\n      <td>12.9</td>\n      <td>210.0</td>\n      <td>SW</td>\n      <td>2.171169</td>\n    </tr>\n    <tr>\n      <th>4</th>\n      <td>ANNIE</td>\n      <td>1973-11-23 12:00:00</td>\n      <td>T</td>\n      <td>2.0</td>\n      <td>1.0</td>\n      <td>20.0</td>\n      <td>-11.20</td>\n      <td>95.00</td>\n      <td>1002.0</td>\n      <td>12.9</td>\n      <td>250.0</td>\n      <td>W</td>\n      <td>1.950454</td>\n    </tr>\n    <tr>\n      <th>...</th>\n      <td>...</td>\n      <td>...</td>\n      <td>...</td>\n      <td>...</td>\n      <td>...</td>\n      <td>...</td>\n      <td>...</td>\n      <td>...</td>\n      <td>...</td>\n      <td>...</td>\n      <td>...</td>\n      <td>...</td>\n      <td>...</td>\n    </tr>\n    <tr>\n      <th>1686</th>\n      <td>GEORGE</td>\n      <td>2007-03-04 18:00:00</td>\n      <td>T</td>\n      <td>3.0</td>\n      <td>2.0</td>\n      <td>30.0</td>\n      <td>-14.30</td>\n      <td>126.40</td>\n      <td>986.0</td>\n      <td>20.6</td>\n      <td>270.0</td>\n      <td>W</td>\n      <td>3.306407</td>\n    </tr>\n    <tr>\n      <th>1687</th>\n      <td>Carlos</td>\n      <td>2011-02-15 12:00:00</td>\n      <td>T</td>\n      <td>3.0</td>\n      <td>4.0</td>\n      <td>21.0</td>\n      <td>-12.73</td>\n      <td>130.61</td>\n      <td>999.0</td>\n      <td>20.6</td>\n      <td>350.0</td>\n      <td>N</td>\n      <td>2.272897</td>\n    </tr>\n    <tr>\n      <th>1688</th>\n      <td>Carlos</td>\n      <td>2011-02-15 21:00:00</td>\n      <td>T</td>\n      <td>3.0</td>\n      <td>2.0</td>\n      <td>30.0</td>\n      <td>-12.54</td>\n      <td>130.72</td>\n      <td>993.0</td>\n      <td>18.0</td>\n      <td>210.0</td>\n      <td>SW</td>\n      <td>2.801605</td>\n    </tr>\n    <tr>\n      <th>1689</th>\n      <td>Carlos</td>\n      <td>2011-02-16 00:00:00</td>\n      <td>T</td>\n      <td>3.0</td>\n      <td>2.0</td>\n      <td>30.0</td>\n      <td>-12.41</td>\n      <td>130.99</td>\n      <td>995.0</td>\n      <td>18.0</td>\n      <td>210.0</td>\n      <td>SW</td>\n      <td>2.638106</td>\n    </tr>\n    <tr>\n      <th>1690</th>\n      <td>Carlos</td>\n      <td>2011-02-16 09:00:00</td>\n      <td>T</td>\n      <td>3.0</td>\n      <td>2.0</td>\n      <td>30.0</td>\n      <td>-12.54</td>\n      <td>130.98</td>\n      <td>994.0</td>\n      <td>20.6</td>\n      <td>220.0</td>\n      <td>SW</td>\n      <td>2.721184</td>\n    </tr>\n  </tbody>\n</table>\n<p>1691 rows × 13 columns</p>\n</div>"
     },
     "metadata": {},
     "execution_count": 5
    }
   ],
   "source": [
    "data = pd.read_csv(\"data/Cyclone_ML.csv\")\n",
    "data"
   ]
  },
  {
   "cell_type": "code",
   "execution_count": 6,
   "metadata": {},
   "outputs": [
    {
     "output_type": "execute_result",
     "data": {
      "text/plain": [
       "Index(['NAME', 'TM', 'TYPE', 'DATA_SRC', 'SURFACE_CODE', 'CYC_TYPE', 'LAT',\n",
       "       'LON', 'CENTRAL_PRES', 'MAX_WIND_SPD', 'MAX_REP_WIND_DIR',\n",
       "       'WIND_COMPASS', 'CENTRAL_INDEX (CI)'],\n",
       "      dtype='object')"
      ]
     },
     "metadata": {},
     "execution_count": 6
    }
   ],
   "source": [
    "data.columns"
   ]
  },
  {
   "cell_type": "code",
   "execution_count": 7,
   "metadata": {},
   "outputs": [
    {
     "output_type": "execute_result",
     "data": {
      "text/plain": [
       "         NAME                   TM  SURFACE_CODE  CYC_TYPE    LAT     LON  \\\n",
       "0      ANNIE   1973-11-22 06:00:00           1.0      20.0 -11.00   92.60   \n",
       "1      ANNIE   1973-11-22 12:00:00           1.0      20.0 -11.10   93.10   \n",
       "2      ANNIE   1973-11-23 00:01:00           1.0      20.0 -11.10   94.20   \n",
       "3      ANNIE   1973-11-23 06:00:00           1.0      20.0 -11.10   94.60   \n",
       "4      ANNIE   1973-11-23 12:00:00           1.0      20.0 -11.20   95.00   \n",
       "...       ...                  ...           ...       ...    ...     ...   \n",
       "1686  GEORGE   2007-03-04 18:00:00           2.0      30.0 -14.30  126.40   \n",
       "1687  Carlos   2011-02-15 12:00:00           4.0      21.0 -12.73  130.61   \n",
       "1688  Carlos   2011-02-15 21:00:00           2.0      30.0 -12.54  130.72   \n",
       "1689  Carlos   2011-02-16 00:00:00           2.0      30.0 -12.41  130.99   \n",
       "1690  Carlos   2011-02-16 09:00:00           2.0      30.0 -12.54  130.98   \n",
       "\n",
       "      CENTRAL_PRES  MAX_WIND_SPD  MAX_REP_WIND_DIR WIND_COMPASS  \\\n",
       "0           1001.0          12.9             100.0            E   \n",
       "1           1002.0          12.9             110.0            E   \n",
       "2           1003.0          12.9             160.0            S   \n",
       "3           1000.0          12.9             210.0           SW   \n",
       "4           1002.0          12.9             250.0            W   \n",
       "...            ...           ...               ...          ...   \n",
       "1686         986.0          20.6             270.0            W   \n",
       "1687         999.0          20.6             350.0            N   \n",
       "1688         993.0          18.0             210.0           SW   \n",
       "1689         995.0          18.0             210.0           SW   \n",
       "1690         994.0          20.6             220.0           SW   \n",
       "\n",
       "      CENTRAL_INDEX (CI)  \n",
       "0               2.064005  \n",
       "1               1.950454  \n",
       "2               1.829259  \n",
       "3               2.171169  \n",
       "4               1.950454  \n",
       "...                  ...  \n",
       "1686            3.306407  \n",
       "1687            2.272897  \n",
       "1688            2.801605  \n",
       "1689            2.638106  \n",
       "1690            2.721184  \n",
       "\n",
       "[1691 rows x 11 columns]"
      ],
      "text/html": "<div>\n<style scoped>\n    .dataframe tbody tr th:only-of-type {\n        vertical-align: middle;\n    }\n\n    .dataframe tbody tr th {\n        vertical-align: top;\n    }\n\n    .dataframe thead th {\n        text-align: right;\n    }\n</style>\n<table border=\"1\" class=\"dataframe\">\n  <thead>\n    <tr style=\"text-align: right;\">\n      <th></th>\n      <th>NAME</th>\n      <th>TM</th>\n      <th>SURFACE_CODE</th>\n      <th>CYC_TYPE</th>\n      <th>LAT</th>\n      <th>LON</th>\n      <th>CENTRAL_PRES</th>\n      <th>MAX_WIND_SPD</th>\n      <th>MAX_REP_WIND_DIR</th>\n      <th>WIND_COMPASS</th>\n      <th>CENTRAL_INDEX (CI)</th>\n    </tr>\n  </thead>\n  <tbody>\n    <tr>\n      <th>0</th>\n      <td>ANNIE</td>\n      <td>1973-11-22 06:00:00</td>\n      <td>1.0</td>\n      <td>20.0</td>\n      <td>-11.00</td>\n      <td>92.60</td>\n      <td>1001.0</td>\n      <td>12.9</td>\n      <td>100.0</td>\n      <td>E</td>\n      <td>2.064005</td>\n    </tr>\n    <tr>\n      <th>1</th>\n      <td>ANNIE</td>\n      <td>1973-11-22 12:00:00</td>\n      <td>1.0</td>\n      <td>20.0</td>\n      <td>-11.10</td>\n      <td>93.10</td>\n      <td>1002.0</td>\n      <td>12.9</td>\n      <td>110.0</td>\n      <td>E</td>\n      <td>1.950454</td>\n    </tr>\n    <tr>\n      <th>2</th>\n      <td>ANNIE</td>\n      <td>1973-11-23 00:01:00</td>\n      <td>1.0</td>\n      <td>20.0</td>\n      <td>-11.10</td>\n      <td>94.20</td>\n      <td>1003.0</td>\n      <td>12.9</td>\n      <td>160.0</td>\n      <td>S</td>\n      <td>1.829259</td>\n    </tr>\n    <tr>\n      <th>3</th>\n      <td>ANNIE</td>\n      <td>1973-11-23 06:00:00</td>\n      <td>1.0</td>\n      <td>20.0</td>\n      <td>-11.10</td>\n      <td>94.60</td>\n      <td>1000.0</td>\n      <td>12.9</td>\n      <td>210.0</td>\n      <td>SW</td>\n      <td>2.171169</td>\n    </tr>\n    <tr>\n      <th>4</th>\n      <td>ANNIE</td>\n      <td>1973-11-23 12:00:00</td>\n      <td>1.0</td>\n      <td>20.0</td>\n      <td>-11.20</td>\n      <td>95.00</td>\n      <td>1002.0</td>\n      <td>12.9</td>\n      <td>250.0</td>\n      <td>W</td>\n      <td>1.950454</td>\n    </tr>\n    <tr>\n      <th>...</th>\n      <td>...</td>\n      <td>...</td>\n      <td>...</td>\n      <td>...</td>\n      <td>...</td>\n      <td>...</td>\n      <td>...</td>\n      <td>...</td>\n      <td>...</td>\n      <td>...</td>\n      <td>...</td>\n    </tr>\n    <tr>\n      <th>1686</th>\n      <td>GEORGE</td>\n      <td>2007-03-04 18:00:00</td>\n      <td>2.0</td>\n      <td>30.0</td>\n      <td>-14.30</td>\n      <td>126.40</td>\n      <td>986.0</td>\n      <td>20.6</td>\n      <td>270.0</td>\n      <td>W</td>\n      <td>3.306407</td>\n    </tr>\n    <tr>\n      <th>1687</th>\n      <td>Carlos</td>\n      <td>2011-02-15 12:00:00</td>\n      <td>4.0</td>\n      <td>21.0</td>\n      <td>-12.73</td>\n      <td>130.61</td>\n      <td>999.0</td>\n      <td>20.6</td>\n      <td>350.0</td>\n      <td>N</td>\n      <td>2.272897</td>\n    </tr>\n    <tr>\n      <th>1688</th>\n      <td>Carlos</td>\n      <td>2011-02-15 21:00:00</td>\n      <td>2.0</td>\n      <td>30.0</td>\n      <td>-12.54</td>\n      <td>130.72</td>\n      <td>993.0</td>\n      <td>18.0</td>\n      <td>210.0</td>\n      <td>SW</td>\n      <td>2.801605</td>\n    </tr>\n    <tr>\n      <th>1689</th>\n      <td>Carlos</td>\n      <td>2011-02-16 00:00:00</td>\n      <td>2.0</td>\n      <td>30.0</td>\n      <td>-12.41</td>\n      <td>130.99</td>\n      <td>995.0</td>\n      <td>18.0</td>\n      <td>210.0</td>\n      <td>SW</td>\n      <td>2.638106</td>\n    </tr>\n    <tr>\n      <th>1690</th>\n      <td>Carlos</td>\n      <td>2011-02-16 09:00:00</td>\n      <td>2.0</td>\n      <td>30.0</td>\n      <td>-12.54</td>\n      <td>130.98</td>\n      <td>994.0</td>\n      <td>20.6</td>\n      <td>220.0</td>\n      <td>SW</td>\n      <td>2.721184</td>\n    </tr>\n  </tbody>\n</table>\n<p>1691 rows × 11 columns</p>\n</div>"
     },
     "metadata": {},
     "execution_count": 7
    }
   ],
   "source": [
    "data = data[['NAME', 'TM', 'SURFACE_CODE', 'CYC_TYPE', 'LAT',\n",
    "       'LON', 'CENTRAL_PRES', 'MAX_WIND_SPD', 'MAX_REP_WIND_DIR',\n",
    "       'WIND_COMPASS', 'CENTRAL_INDEX (CI)']]\n",
    "data"
   ]
  },
  {
   "cell_type": "code",
   "execution_count": 8,
   "metadata": {},
   "outputs": [],
   "source": [
    "#loop through each row and remove rows greater than min value\n",
    "for i, row in data.iterrows():\n",
    "    data = data.loc[~((data['NAME'] == row[0]) & (data['CENTRAL_PRES'] > row[6])),:]\n"
   ]
  },
  {
   "cell_type": "code",
   "execution_count": 9,
   "metadata": {},
   "outputs": [
    {
     "output_type": "execute_result",
     "data": {
      "text/plain": [
       "         NAME                   TM  SURFACE_CODE  CYC_TYPE    LAT     LON  \\\n",
       "25     ANNIE   1973-11-30 00:01:00           1.0      30.0 -15.30  102.50   \n",
       "26     ANNIE   1973-11-30 06:00:00           1.0      30.0 -15.60  102.90   \n",
       "42     BERYL   1973-12-01 01:00:00           1.0      40.0 -13.20  116.60   \n",
       "43     BERYL   1973-12-01 07:00:00           1.0      40.0 -13.80  116.00   \n",
       "44     BERYL   1973-12-01 16:00:00           1.0      40.0 -15.00  115.10   \n",
       "...       ...                  ...           ...       ...    ...     ...   \n",
       "1679    EMMA   2006-03-01 00:00:00           2.0      70.0 -28.90  119.00   \n",
       "1680  GLENDA   2006-03-29 18:00:00           1.0      40.0 -18.80  116.70   \n",
       "1681   LARRY   2006-03-19 18:00:00           1.0      40.0 -17.50  146.80   \n",
       "1684  GEORGE   2007-03-04 00:00:00           1.0      30.0 -14.60  128.50   \n",
       "1688  Carlos   2011-02-15 21:00:00           2.0      30.0 -12.54  130.72   \n",
       "\n",
       "      CENTRAL_PRES  MAX_WIND_SPD  MAX_REP_WIND_DIR WIND_COMPASS  \\\n",
       "25           981.0          28.3             340.0            N   \n",
       "26           981.0          28.3             230.0           SW   \n",
       "42           973.0          36.0              20.0            N   \n",
       "43           973.0          36.0              10.0            N   \n",
       "44           973.0          36.0             140.0           SE   \n",
       "...            ...           ...               ...          ...   \n",
       "1679         990.0          15.4              40.0           NE   \n",
       "1680         924.0          51.4              60.0           NE   \n",
       "1681         935.0          51.4             190.0            S   \n",
       "1684         982.0          25.7             240.0           SW   \n",
       "1688         993.0          18.0             210.0           SW   \n",
       "\n",
       "      CENTRAL_INDEX (CI)  \n",
       "25              3.621102  \n",
       "26              3.621102  \n",
       "42              4.070722  \n",
       "43              4.070722  \n",
       "44              4.070722  \n",
       "...                  ...  \n",
       "1679            3.029115  \n",
       "1680            6.104487  \n",
       "1681            5.716025  \n",
       "1684            3.560567  \n",
       "1688            2.801605  \n",
       "\n",
       "[240 rows x 11 columns]"
      ],
      "text/html": "<div>\n<style scoped>\n    .dataframe tbody tr th:only-of-type {\n        vertical-align: middle;\n    }\n\n    .dataframe tbody tr th {\n        vertical-align: top;\n    }\n\n    .dataframe thead th {\n        text-align: right;\n    }\n</style>\n<table border=\"1\" class=\"dataframe\">\n  <thead>\n    <tr style=\"text-align: right;\">\n      <th></th>\n      <th>NAME</th>\n      <th>TM</th>\n      <th>SURFACE_CODE</th>\n      <th>CYC_TYPE</th>\n      <th>LAT</th>\n      <th>LON</th>\n      <th>CENTRAL_PRES</th>\n      <th>MAX_WIND_SPD</th>\n      <th>MAX_REP_WIND_DIR</th>\n      <th>WIND_COMPASS</th>\n      <th>CENTRAL_INDEX (CI)</th>\n    </tr>\n  </thead>\n  <tbody>\n    <tr>\n      <th>25</th>\n      <td>ANNIE</td>\n      <td>1973-11-30 00:01:00</td>\n      <td>1.0</td>\n      <td>30.0</td>\n      <td>-15.30</td>\n      <td>102.50</td>\n      <td>981.0</td>\n      <td>28.3</td>\n      <td>340.0</td>\n      <td>N</td>\n      <td>3.621102</td>\n    </tr>\n    <tr>\n      <th>26</th>\n      <td>ANNIE</td>\n      <td>1973-11-30 06:00:00</td>\n      <td>1.0</td>\n      <td>30.0</td>\n      <td>-15.60</td>\n      <td>102.90</td>\n      <td>981.0</td>\n      <td>28.3</td>\n      <td>230.0</td>\n      <td>SW</td>\n      <td>3.621102</td>\n    </tr>\n    <tr>\n      <th>42</th>\n      <td>BERYL</td>\n      <td>1973-12-01 01:00:00</td>\n      <td>1.0</td>\n      <td>40.0</td>\n      <td>-13.20</td>\n      <td>116.60</td>\n      <td>973.0</td>\n      <td>36.0</td>\n      <td>20.0</td>\n      <td>N</td>\n      <td>4.070722</td>\n    </tr>\n    <tr>\n      <th>43</th>\n      <td>BERYL</td>\n      <td>1973-12-01 07:00:00</td>\n      <td>1.0</td>\n      <td>40.0</td>\n      <td>-13.80</td>\n      <td>116.00</td>\n      <td>973.0</td>\n      <td>36.0</td>\n      <td>10.0</td>\n      <td>N</td>\n      <td>4.070722</td>\n    </tr>\n    <tr>\n      <th>44</th>\n      <td>BERYL</td>\n      <td>1973-12-01 16:00:00</td>\n      <td>1.0</td>\n      <td>40.0</td>\n      <td>-15.00</td>\n      <td>115.10</td>\n      <td>973.0</td>\n      <td>36.0</td>\n      <td>140.0</td>\n      <td>SE</td>\n      <td>4.070722</td>\n    </tr>\n    <tr>\n      <th>...</th>\n      <td>...</td>\n      <td>...</td>\n      <td>...</td>\n      <td>...</td>\n      <td>...</td>\n      <td>...</td>\n      <td>...</td>\n      <td>...</td>\n      <td>...</td>\n      <td>...</td>\n      <td>...</td>\n    </tr>\n    <tr>\n      <th>1679</th>\n      <td>EMMA</td>\n      <td>2006-03-01 00:00:00</td>\n      <td>2.0</td>\n      <td>70.0</td>\n      <td>-28.90</td>\n      <td>119.00</td>\n      <td>990.0</td>\n      <td>15.4</td>\n      <td>40.0</td>\n      <td>NE</td>\n      <td>3.029115</td>\n    </tr>\n    <tr>\n      <th>1680</th>\n      <td>GLENDA</td>\n      <td>2006-03-29 18:00:00</td>\n      <td>1.0</td>\n      <td>40.0</td>\n      <td>-18.80</td>\n      <td>116.70</td>\n      <td>924.0</td>\n      <td>51.4</td>\n      <td>60.0</td>\n      <td>NE</td>\n      <td>6.104487</td>\n    </tr>\n    <tr>\n      <th>1681</th>\n      <td>LARRY</td>\n      <td>2006-03-19 18:00:00</td>\n      <td>1.0</td>\n      <td>40.0</td>\n      <td>-17.50</td>\n      <td>146.80</td>\n      <td>935.0</td>\n      <td>51.4</td>\n      <td>190.0</td>\n      <td>S</td>\n      <td>5.716025</td>\n    </tr>\n    <tr>\n      <th>1684</th>\n      <td>GEORGE</td>\n      <td>2007-03-04 00:00:00</td>\n      <td>1.0</td>\n      <td>30.0</td>\n      <td>-14.60</td>\n      <td>128.50</td>\n      <td>982.0</td>\n      <td>25.7</td>\n      <td>240.0</td>\n      <td>SW</td>\n      <td>3.560567</td>\n    </tr>\n    <tr>\n      <th>1688</th>\n      <td>Carlos</td>\n      <td>2011-02-15 21:00:00</td>\n      <td>2.0</td>\n      <td>30.0</td>\n      <td>-12.54</td>\n      <td>130.72</td>\n      <td>993.0</td>\n      <td>18.0</td>\n      <td>210.0</td>\n      <td>SW</td>\n      <td>2.801605</td>\n    </tr>\n  </tbody>\n</table>\n<p>240 rows × 11 columns</p>\n</div>"
     },
     "metadata": {},
     "execution_count": 9
    }
   ],
   "source": [
    "#display df\n",
    "data"
   ]
  },
  {
   "cell_type": "code",
   "execution_count": 10,
   "metadata": {},
   "outputs": [
    {
     "output_type": "execute_result",
     "data": {
      "text/plain": [
       "         NAME                   TM  SURFACE_CODE  CYC_TYPE    LAT     LON  \\\n",
       "25     ANNIE   1973-11-30 00:01:00           1.0      30.0 -15.30  102.50   \n",
       "42     BERYL   1973-12-01 01:00:00           1.0      40.0 -13.20  116.60   \n",
       "74    CECILY   1973-12-15 00:01:00           1.0      40.0 -17.70   94.70   \n",
       "94    DEIDRE   1973-12-23 12:00:00           1.0      30.0 -12.80   90.50   \n",
       "109    ERICA   1973-12-31 07:00:00           1.0      30.0 -19.20  118.00   \n",
       "...       ...                  ...           ...       ...    ...     ...   \n",
       "1674    EMMA   2006-02-27 18:00:00           1.0      30.0 -19.40  115.50   \n",
       "1680  GLENDA   2006-03-29 18:00:00           1.0      40.0 -18.80  116.70   \n",
       "1681   LARRY   2006-03-19 18:00:00           1.0      40.0 -17.50  146.80   \n",
       "1684  GEORGE   2007-03-04 00:00:00           1.0      30.0 -14.60  128.50   \n",
       "1688  Carlos   2011-02-15 21:00:00           2.0      30.0 -12.54  130.72   \n",
       "\n",
       "      CENTRAL_PRES  MAX_WIND_SPD  MAX_REP_WIND_DIR WIND_COMPASS  \\\n",
       "25           981.0          28.3             340.0            N   \n",
       "42           973.0          36.0              20.0            N   \n",
       "74           973.0          36.0              10.0            N   \n",
       "94           981.0          28.3              60.0           NE   \n",
       "109          977.0          25.7               0.0            N   \n",
       "...            ...           ...               ...          ...   \n",
       "1674         990.0          20.6             130.0           SE   \n",
       "1680         924.0          51.4              60.0           NE   \n",
       "1681         935.0          51.4             190.0            S   \n",
       "1684         982.0          25.7             240.0           SW   \n",
       "1688         993.0          18.0             210.0           SW   \n",
       "\n",
       "      CENTRAL_INDEX (CI)  \n",
       "25              3.621102  \n",
       "42              4.070722  \n",
       "74              4.070722  \n",
       "94              3.621102  \n",
       "109             3.853011  \n",
       "...                  ...  \n",
       "1674            3.029115  \n",
       "1680            6.104487  \n",
       "1681            5.716025  \n",
       "1684            3.560567  \n",
       "1688            2.801605  \n",
       "\n",
       "[120 rows x 11 columns]"
      ],
      "text/html": "<div>\n<style scoped>\n    .dataframe tbody tr th:only-of-type {\n        vertical-align: middle;\n    }\n\n    .dataframe tbody tr th {\n        vertical-align: top;\n    }\n\n    .dataframe thead th {\n        text-align: right;\n    }\n</style>\n<table border=\"1\" class=\"dataframe\">\n  <thead>\n    <tr style=\"text-align: right;\">\n      <th></th>\n      <th>NAME</th>\n      <th>TM</th>\n      <th>SURFACE_CODE</th>\n      <th>CYC_TYPE</th>\n      <th>LAT</th>\n      <th>LON</th>\n      <th>CENTRAL_PRES</th>\n      <th>MAX_WIND_SPD</th>\n      <th>MAX_REP_WIND_DIR</th>\n      <th>WIND_COMPASS</th>\n      <th>CENTRAL_INDEX (CI)</th>\n    </tr>\n  </thead>\n  <tbody>\n    <tr>\n      <th>25</th>\n      <td>ANNIE</td>\n      <td>1973-11-30 00:01:00</td>\n      <td>1.0</td>\n      <td>30.0</td>\n      <td>-15.30</td>\n      <td>102.50</td>\n      <td>981.0</td>\n      <td>28.3</td>\n      <td>340.0</td>\n      <td>N</td>\n      <td>3.621102</td>\n    </tr>\n    <tr>\n      <th>42</th>\n      <td>BERYL</td>\n      <td>1973-12-01 01:00:00</td>\n      <td>1.0</td>\n      <td>40.0</td>\n      <td>-13.20</td>\n      <td>116.60</td>\n      <td>973.0</td>\n      <td>36.0</td>\n      <td>20.0</td>\n      <td>N</td>\n      <td>4.070722</td>\n    </tr>\n    <tr>\n      <th>74</th>\n      <td>CECILY</td>\n      <td>1973-12-15 00:01:00</td>\n      <td>1.0</td>\n      <td>40.0</td>\n      <td>-17.70</td>\n      <td>94.70</td>\n      <td>973.0</td>\n      <td>36.0</td>\n      <td>10.0</td>\n      <td>N</td>\n      <td>4.070722</td>\n    </tr>\n    <tr>\n      <th>94</th>\n      <td>DEIDRE</td>\n      <td>1973-12-23 12:00:00</td>\n      <td>1.0</td>\n      <td>30.0</td>\n      <td>-12.80</td>\n      <td>90.50</td>\n      <td>981.0</td>\n      <td>28.3</td>\n      <td>60.0</td>\n      <td>NE</td>\n      <td>3.621102</td>\n    </tr>\n    <tr>\n      <th>109</th>\n      <td>ERICA</td>\n      <td>1973-12-31 07:00:00</td>\n      <td>1.0</td>\n      <td>30.0</td>\n      <td>-19.20</td>\n      <td>118.00</td>\n      <td>977.0</td>\n      <td>25.7</td>\n      <td>0.0</td>\n      <td>N</td>\n      <td>3.853011</td>\n    </tr>\n    <tr>\n      <th>...</th>\n      <td>...</td>\n      <td>...</td>\n      <td>...</td>\n      <td>...</td>\n      <td>...</td>\n      <td>...</td>\n      <td>...</td>\n      <td>...</td>\n      <td>...</td>\n      <td>...</td>\n      <td>...</td>\n    </tr>\n    <tr>\n      <th>1674</th>\n      <td>EMMA</td>\n      <td>2006-02-27 18:00:00</td>\n      <td>1.0</td>\n      <td>30.0</td>\n      <td>-19.40</td>\n      <td>115.50</td>\n      <td>990.0</td>\n      <td>20.6</td>\n      <td>130.0</td>\n      <td>SE</td>\n      <td>3.029115</td>\n    </tr>\n    <tr>\n      <th>1680</th>\n      <td>GLENDA</td>\n      <td>2006-03-29 18:00:00</td>\n      <td>1.0</td>\n      <td>40.0</td>\n      <td>-18.80</td>\n      <td>116.70</td>\n      <td>924.0</td>\n      <td>51.4</td>\n      <td>60.0</td>\n      <td>NE</td>\n      <td>6.104487</td>\n    </tr>\n    <tr>\n      <th>1681</th>\n      <td>LARRY</td>\n      <td>2006-03-19 18:00:00</td>\n      <td>1.0</td>\n      <td>40.0</td>\n      <td>-17.50</td>\n      <td>146.80</td>\n      <td>935.0</td>\n      <td>51.4</td>\n      <td>190.0</td>\n      <td>S</td>\n      <td>5.716025</td>\n    </tr>\n    <tr>\n      <th>1684</th>\n      <td>GEORGE</td>\n      <td>2007-03-04 00:00:00</td>\n      <td>1.0</td>\n      <td>30.0</td>\n      <td>-14.60</td>\n      <td>128.50</td>\n      <td>982.0</td>\n      <td>25.7</td>\n      <td>240.0</td>\n      <td>SW</td>\n      <td>3.560567</td>\n    </tr>\n    <tr>\n      <th>1688</th>\n      <td>Carlos</td>\n      <td>2011-02-15 21:00:00</td>\n      <td>2.0</td>\n      <td>30.0</td>\n      <td>-12.54</td>\n      <td>130.72</td>\n      <td>993.0</td>\n      <td>18.0</td>\n      <td>210.0</td>\n      <td>SW</td>\n      <td>2.801605</td>\n    </tr>\n  </tbody>\n</table>\n<p>120 rows × 11 columns</p>\n</div>"
     },
     "metadata": {},
     "execution_count": 10
    }
   ],
   "source": [
    "#drop duplicates\n",
    "data_df = data.drop_duplicates('NAME')\n",
    "data_df"
   ]
  },
  {
   "cell_type": "code",
   "execution_count": 11,
   "metadata": {},
   "outputs": [
    {
     "output_type": "execute_result",
     "data": {
      "text/plain": [
       "           NAME                   TM  SURFACE_CODE  CYC_TYPE   LAT    LON  \\\n",
       "1195     ORSON   1989-04-22 03:00:00           1.0      40.0 -16.8  116.1   \n",
       "1334  THEODORE   1994-02-25 12:00:00           1.0      40.0 -14.2  157.3   \n",
       "499       JOAN   1975-12-07 01:00:00           1.0      40.0 -17.6  117.9   \n",
       "1546      JOHN   1999-12-14 04:00:00           1.0      40.0 -18.5  117.5   \n",
       "1314      REWA   1994-01-02 12:00:00           1.0      40.0 -16.9  153.9   \n",
       "1529     VANCE   1999-03-21 18:00:00           1.0      40.0 -20.0  114.5   \n",
       "1376     CHLOE   1995-04-07 06:00:00           1.0      40.0 -14.6  123.3   \n",
       "1666    INGRID   2005-03-11 18:00:00           1.0      40.0 -11.9  136.8   \n",
       "1680    GLENDA   2006-03-29 18:00:00           1.0      40.0 -18.8  116.7   \n",
       "1351     BOBBY   1995-02-24 09:00:00           1.0      40.0 -21.3  115.6   \n",
       "\n",
       "      CENTRAL_PRES  MAX_WIND_SPD  MAX_REP_WIND_DIR WIND_COMPASS  \\\n",
       "1195         905.0          66.9             120.0           SE   \n",
       "1334         915.0          56.6             280.0            W   \n",
       "499          915.0          59.2             310.0           NW   \n",
       "1546         915.0          56.6             100.0            E   \n",
       "1314         920.0          56.6              70.0            E   \n",
       "1529         920.0          56.6             125.0           SE   \n",
       "1376         920.0          61.7               0.0            N   \n",
       "1666         924.0          64.3             120.0           SE   \n",
       "1680         924.0          51.4              60.0           NE   \n",
       "1351         925.0          54.0             275.0            W   \n",
       "\n",
       "      CENTRAL_INDEX (CI)  \n",
       "1195            6.718890  \n",
       "1334            6.403473  \n",
       "499             6.403473  \n",
       "1546            6.403473  \n",
       "1314            6.239283  \n",
       "1529            6.239283  \n",
       "1376            6.239283  \n",
       "1666            6.104487  \n",
       "1680            6.104487  \n",
       "1351            6.070282  "
      ],
      "text/html": "<div>\n<style scoped>\n    .dataframe tbody tr th:only-of-type {\n        vertical-align: middle;\n    }\n\n    .dataframe tbody tr th {\n        vertical-align: top;\n    }\n\n    .dataframe thead th {\n        text-align: right;\n    }\n</style>\n<table border=\"1\" class=\"dataframe\">\n  <thead>\n    <tr style=\"text-align: right;\">\n      <th></th>\n      <th>NAME</th>\n      <th>TM</th>\n      <th>SURFACE_CODE</th>\n      <th>CYC_TYPE</th>\n      <th>LAT</th>\n      <th>LON</th>\n      <th>CENTRAL_PRES</th>\n      <th>MAX_WIND_SPD</th>\n      <th>MAX_REP_WIND_DIR</th>\n      <th>WIND_COMPASS</th>\n      <th>CENTRAL_INDEX (CI)</th>\n    </tr>\n  </thead>\n  <tbody>\n    <tr>\n      <th>1195</th>\n      <td>ORSON</td>\n      <td>1989-04-22 03:00:00</td>\n      <td>1.0</td>\n      <td>40.0</td>\n      <td>-16.8</td>\n      <td>116.1</td>\n      <td>905.0</td>\n      <td>66.9</td>\n      <td>120.0</td>\n      <td>SE</td>\n      <td>6.718890</td>\n    </tr>\n    <tr>\n      <th>1334</th>\n      <td>THEODORE</td>\n      <td>1994-02-25 12:00:00</td>\n      <td>1.0</td>\n      <td>40.0</td>\n      <td>-14.2</td>\n      <td>157.3</td>\n      <td>915.0</td>\n      <td>56.6</td>\n      <td>280.0</td>\n      <td>W</td>\n      <td>6.403473</td>\n    </tr>\n    <tr>\n      <th>499</th>\n      <td>JOAN</td>\n      <td>1975-12-07 01:00:00</td>\n      <td>1.0</td>\n      <td>40.0</td>\n      <td>-17.6</td>\n      <td>117.9</td>\n      <td>915.0</td>\n      <td>59.2</td>\n      <td>310.0</td>\n      <td>NW</td>\n      <td>6.403473</td>\n    </tr>\n    <tr>\n      <th>1546</th>\n      <td>JOHN</td>\n      <td>1999-12-14 04:00:00</td>\n      <td>1.0</td>\n      <td>40.0</td>\n      <td>-18.5</td>\n      <td>117.5</td>\n      <td>915.0</td>\n      <td>56.6</td>\n      <td>100.0</td>\n      <td>E</td>\n      <td>6.403473</td>\n    </tr>\n    <tr>\n      <th>1314</th>\n      <td>REWA</td>\n      <td>1994-01-02 12:00:00</td>\n      <td>1.0</td>\n      <td>40.0</td>\n      <td>-16.9</td>\n      <td>153.9</td>\n      <td>920.0</td>\n      <td>56.6</td>\n      <td>70.0</td>\n      <td>E</td>\n      <td>6.239283</td>\n    </tr>\n    <tr>\n      <th>1529</th>\n      <td>VANCE</td>\n      <td>1999-03-21 18:00:00</td>\n      <td>1.0</td>\n      <td>40.0</td>\n      <td>-20.0</td>\n      <td>114.5</td>\n      <td>920.0</td>\n      <td>56.6</td>\n      <td>125.0</td>\n      <td>SE</td>\n      <td>6.239283</td>\n    </tr>\n    <tr>\n      <th>1376</th>\n      <td>CHLOE</td>\n      <td>1995-04-07 06:00:00</td>\n      <td>1.0</td>\n      <td>40.0</td>\n      <td>-14.6</td>\n      <td>123.3</td>\n      <td>920.0</td>\n      <td>61.7</td>\n      <td>0.0</td>\n      <td>N</td>\n      <td>6.239283</td>\n    </tr>\n    <tr>\n      <th>1666</th>\n      <td>INGRID</td>\n      <td>2005-03-11 18:00:00</td>\n      <td>1.0</td>\n      <td>40.0</td>\n      <td>-11.9</td>\n      <td>136.8</td>\n      <td>924.0</td>\n      <td>64.3</td>\n      <td>120.0</td>\n      <td>SE</td>\n      <td>6.104487</td>\n    </tr>\n    <tr>\n      <th>1680</th>\n      <td>GLENDA</td>\n      <td>2006-03-29 18:00:00</td>\n      <td>1.0</td>\n      <td>40.0</td>\n      <td>-18.8</td>\n      <td>116.7</td>\n      <td>924.0</td>\n      <td>51.4</td>\n      <td>60.0</td>\n      <td>NE</td>\n      <td>6.104487</td>\n    </tr>\n    <tr>\n      <th>1351</th>\n      <td>BOBBY</td>\n      <td>1995-02-24 09:00:00</td>\n      <td>1.0</td>\n      <td>40.0</td>\n      <td>-21.3</td>\n      <td>115.6</td>\n      <td>925.0</td>\n      <td>54.0</td>\n      <td>275.0</td>\n      <td>W</td>\n      <td>6.070282</td>\n    </tr>\n  </tbody>\n</table>\n</div>"
     },
     "metadata": {},
     "execution_count": 11
    }
   ],
   "source": [
    "#sort values\n",
    "data_df = data_df.sort_values('CENTRAL_PRES', ascending=True)\n",
    "data_new = data_df.head(10)\n",
    "data_new"
   ]
  },
  {
   "cell_type": "code",
   "execution_count": 12,
   "metadata": {},
   "outputs": [],
   "source": [
    "# export to html table\n",
    "table = data_new.to_html(\"table.html\", index=False, border=0, justify=\"justify\", classes=\"table table-striped\")"
   ]
  },
  {
   "cell_type": "code",
   "execution_count": 18,
   "metadata": {},
   "outputs": [
    {
     "output_type": "stream",
     "name": "stdout",
     "text": [
      "[\n    {\n        \"NAME\": \"ORSON\",\n        \"TM\": \"1989-04-22 03:00:00\",\n        \"SURFACE_CODE\": 1.0,\n        \"CYC_TYPE\": 40.0,\n        \"LAT\": -16.8,\n        \"LON\": 116.1,\n        \"CENTRAL_PRES\": 905.0,\n        \"MAX_WIND_SPD\": 66.9,\n        \"MAX_REP_WIND_DIR\": 120.0,\n        \"WIND_COMPASS\": \"SE\",\n        \"CENTRAL_INDEX (CI)\": 6.7188902807\n    },\n    {\n        \"NAME\": \"THEODORE\",\n        \"TM\": \"1994-02-25 12:00:00\",\n        \"SURFACE_CODE\": 1.0,\n        \"CYC_TYPE\": 40.0,\n        \"LAT\": -14.2,\n        \"LON\": 157.3,\n        \"CENTRAL_PRES\": 915.0,\n        \"MAX_WIND_SPD\": 56.6,\n        \"MAX_REP_WIND_DIR\": 280.0,\n        \"WIND_COMPASS\": \"W\",\n        \"CENTRAL_INDEX (CI)\": 6.4034730587\n    },\n    {\n        \"NAME\": \"JOAN\",\n        \"TM\": \"1975-12-07 01:00:00\",\n        \"SURFACE_CODE\": 1.0,\n        \"CYC_TYPE\": 40.0,\n        \"LAT\": -17.6,\n        \"LON\": 117.9,\n        \"CENTRAL_PRES\": 915.0,\n        \"MAX_WIND_SPD\": 59.2,\n        \"MAX_REP_WIND_DIR\": 310.0,\n        \"WIND_COMPASS\": \"NW\",\n        \"CENTRAL_INDEX (CI)\": 6.4034730587\n    },\n    {\n        \"NAME\": \"JOHN\",\n        \"TM\": \"1999-12-14 04:00:00\",\n        \"SURFACE_CODE\": 1.0,\n        \"CYC_TYPE\": 40.0,\n        \"LAT\": -18.5,\n        \"LON\": 117.5,\n        \"CENTRAL_PRES\": 915.0,\n        \"MAX_WIND_SPD\": 56.6,\n        \"MAX_REP_WIND_DIR\": 100.0,\n        \"WIND_COMPASS\": \"E\",\n        \"CENTRAL_INDEX (CI)\": 6.4034730587\n    },\n    {\n        \"NAME\": \"REWA\",\n        \"TM\": \"1994-01-02 12:00:00\",\n        \"SURFACE_CODE\": 1.0,\n        \"CYC_TYPE\": 40.0,\n        \"LAT\": -16.9,\n        \"LON\": 153.9,\n        \"CENTRAL_PRES\": 920.0,\n        \"MAX_WIND_SPD\": 56.6,\n        \"MAX_REP_WIND_DIR\": 70.0,\n        \"WIND_COMPASS\": \"E\",\n        \"CENTRAL_INDEX (CI)\": 6.2392832867\n    },\n    {\n        \"NAME\": \"VANCE\",\n        \"TM\": \"1999-03-21 18:00:00\",\n        \"SURFACE_CODE\": 1.0,\n        \"CYC_TYPE\": 40.0,\n        \"LAT\": -20.0,\n        \"LON\": 114.5,\n        \"CENTRAL_PRES\": 920.0,\n        \"MAX_WIND_SPD\": 56.6,\n        \"MAX_REP_WIND_DIR\": 125.0,\n        \"WIND_COMPASS\": \"SE\",\n        \"CENTRAL_INDEX (CI)\": 6.2392832867\n    },\n    {\n        \"NAME\": \"CHLOE\",\n        \"TM\": \"1995-04-07 06:00:00\",\n        \"SURFACE_CODE\": 1.0,\n        \"CYC_TYPE\": 40.0,\n        \"LAT\": -14.6,\n        \"LON\": 123.3,\n        \"CENTRAL_PRES\": 920.0,\n        \"MAX_WIND_SPD\": 61.7,\n        \"MAX_REP_WIND_DIR\": 0.0,\n        \"WIND_COMPASS\": \"N\",\n        \"CENTRAL_INDEX (CI)\": 6.2392832867\n    },\n    {\n        \"NAME\": \"INGRID\",\n        \"TM\": \"2005-03-11 18:00:00\",\n        \"SURFACE_CODE\": 1.0,\n        \"CYC_TYPE\": 40.0,\n        \"LAT\": -11.9,\n        \"LON\": 136.8,\n        \"CENTRAL_PRES\": 924.0,\n        \"MAX_WIND_SPD\": 64.3,\n        \"MAX_REP_WIND_DIR\": 120.0,\n        \"WIND_COMPASS\": \"SE\",\n        \"CENTRAL_INDEX (CI)\": 6.1044871693\n    },\n    {\n        \"NAME\": \"GLENDA\",\n        \"TM\": \"2006-03-29 18:00:00\",\n        \"SURFACE_CODE\": 1.0,\n        \"CYC_TYPE\": 40.0,\n        \"LAT\": -18.8,\n        \"LON\": 116.7,\n        \"CENTRAL_PRES\": 924.0,\n        \"MAX_WIND_SPD\": 51.4,\n        \"MAX_REP_WIND_DIR\": 60.0,\n        \"WIND_COMPASS\": \"NE\",\n        \"CENTRAL_INDEX (CI)\": 6.1044871693\n    },\n    {\n        \"NAME\": \"BOBBY\",\n        \"TM\": \"1995-02-24 09:00:00\",\n        \"SURFACE_CODE\": 1.0,\n        \"CYC_TYPE\": 40.0,\n        \"LAT\": -21.3,\n        \"LON\": 115.6,\n        \"CENTRAL_PRES\": 925.0,\n        \"MAX_WIND_SPD\": 54.0,\n        \"MAX_REP_WIND_DIR\": 275.0,\n        \"WIND_COMPASS\": \"W\",\n        \"CENTRAL_INDEX (CI)\": 6.0702818913\n    }\n]\n"
     ]
    }
   ],
   "source": [
    "#remove spaces from the name column\n",
    "data_new[\"NAME\"]=data_new[\"NAME\"].apply(lambda x: x.strip())\n",
    "\n",
    "#converting the table to json format\n",
    "cyclone_json = data_new.to_json(orient=\"records\")\n",
    "cyclone_json_parsed = json.loads(cyclone_json)\n",
    "cyclone_json_top = json.dumps(cyclone_json_parsed,indent=4)\n",
    "\n",
    "cyclone_json_top"
   ]
  },
  {
   "cell_type": "code",
   "execution_count": 19,
   "metadata": {},
   "outputs": [],
   "source": [
    "data_json_file = open(\"cyclone_top10.json\", \"w\")\n",
    "data_json_file.write(cyclone_json_top)\n",
    "data_json_file.close()"
   ]
  },
  {
   "cell_type": "code",
   "execution_count": null,
   "metadata": {},
   "outputs": [],
   "source": []
  }
 ]
}