{
 "metadata": {
  "language_info": {
   "codemirror_mode": {
    "name": "ipython",
    "version": 3
   },
   "file_extension": ".py",
   "mimetype": "text/x-python",
   "name": "python",
   "nbconvert_exporter": "python",
   "pygments_lexer": "ipython3",
   "version": "3.7.9-final"
  },
  "orig_nbformat": 2,
  "kernelspec": {
   "name": "python3",
   "display_name": "Python 3.7.9 64-bit ('PyBank3': conda)",
   "metadata": {
    "interpreter": {
     "hash": "234cddd55e5577e8e34cc9bbb2b3dbdf85c191fe3d3aa2805cd91ec6b696ecde"
    }
   }
  }
 },
 "nbformat": 4,
 "nbformat_minor": 2,
 "cells": [
  {
   "cell_type": "code",
   "execution_count": 2,
   "metadata": {},
   "outputs": [],
   "source": [
    "import pandas as pd"
   ]
  },
  {
   "cell_type": "code",
   "execution_count": 4,
   "metadata": {},
   "outputs": [
    {
     "output_type": "execute_result",
     "data": {
      "text/plain": [
       "         NAME                   TM TYPE  DATA_SRC  SURFACE_CODE  CYC_TYPE  \\\n",
       "0      ANNIE   1973-11-22 06:00:00    T       2.0           1.0      20.0   \n",
       "1      ANNIE   1973-11-22 12:00:00    T       2.0           1.0      20.0   \n",
       "2      ANNIE   1973-11-23 00:01:00    T       2.0           1.0      20.0   \n",
       "3      ANNIE   1973-11-23 06:00:00    T       2.0           1.0      20.0   \n",
       "4      ANNIE   1973-11-23 12:00:00    T       2.0           1.0      20.0   \n",
       "...       ...                  ...  ...       ...           ...       ...   \n",
       "1686  GEORGE   2007-03-04 18:00:00    T       3.0           2.0      30.0   \n",
       "1687  Carlos   2011-02-15 12:00:00    T       3.0           4.0      21.0   \n",
       "1688  Carlos   2011-02-15 21:00:00    T       3.0           2.0      30.0   \n",
       "1689  Carlos   2011-02-16 00:00:00    T       3.0           2.0      30.0   \n",
       "1690  Carlos   2011-02-16 09:00:00    T       3.0           2.0      30.0   \n",
       "\n",
       "        LAT     LON  CENTRAL_PRES  MAX_WIND_SPD  MAX_REP_WIND_DIR WIND_COMPASS  \n",
       "0    -11.00   92.60        1001.0          12.9             100.0            E  \n",
       "1    -11.10   93.10        1002.0          12.9             110.0            E  \n",
       "2    -11.10   94.20        1003.0          12.9             160.0            S  \n",
       "3    -11.10   94.60        1000.0          12.9             210.0           SW  \n",
       "4    -11.20   95.00        1002.0          12.9             250.0            W  \n",
       "...     ...     ...           ...           ...               ...          ...  \n",
       "1686 -14.30  126.40         986.0          20.6             270.0            W  \n",
       "1687 -12.73  130.61         999.0          20.6             350.0            N  \n",
       "1688 -12.54  130.72         993.0          18.0             210.0           SW  \n",
       "1689 -12.41  130.99         995.0          18.0             210.0           SW  \n",
       "1690 -12.54  130.98         994.0          20.6             220.0           SW  \n",
       "\n",
       "[1691 rows x 12 columns]"
      ],
      "text/html": "<div>\n<style scoped>\n    .dataframe tbody tr th:only-of-type {\n        vertical-align: middle;\n    }\n\n    .dataframe tbody tr th {\n        vertical-align: top;\n    }\n\n    .dataframe thead th {\n        text-align: right;\n    }\n</style>\n<table border=\"1\" class=\"dataframe\">\n  <thead>\n    <tr style=\"text-align: right;\">\n      <th></th>\n      <th>NAME</th>\n      <th>TM</th>\n      <th>TYPE</th>\n      <th>DATA_SRC</th>\n      <th>SURFACE_CODE</th>\n      <th>CYC_TYPE</th>\n      <th>LAT</th>\n      <th>LON</th>\n      <th>CENTRAL_PRES</th>\n      <th>MAX_WIND_SPD</th>\n      <th>MAX_REP_WIND_DIR</th>\n      <th>WIND_COMPASS</th>\n    </tr>\n  </thead>\n  <tbody>\n    <tr>\n      <th>0</th>\n      <td>ANNIE</td>\n      <td>1973-11-22 06:00:00</td>\n      <td>T</td>\n      <td>2.0</td>\n      <td>1.0</td>\n      <td>20.0</td>\n      <td>-11.00</td>\n      <td>92.60</td>\n      <td>1001.0</td>\n      <td>12.9</td>\n      <td>100.0</td>\n      <td>E</td>\n    </tr>\n    <tr>\n      <th>1</th>\n      <td>ANNIE</td>\n      <td>1973-11-22 12:00:00</td>\n      <td>T</td>\n      <td>2.0</td>\n      <td>1.0</td>\n      <td>20.0</td>\n      <td>-11.10</td>\n      <td>93.10</td>\n      <td>1002.0</td>\n      <td>12.9</td>\n      <td>110.0</td>\n      <td>E</td>\n    </tr>\n    <tr>\n      <th>2</th>\n      <td>ANNIE</td>\n      <td>1973-11-23 00:01:00</td>\n      <td>T</td>\n      <td>2.0</td>\n      <td>1.0</td>\n      <td>20.0</td>\n      <td>-11.10</td>\n      <td>94.20</td>\n      <td>1003.0</td>\n      <td>12.9</td>\n      <td>160.0</td>\n      <td>S</td>\n    </tr>\n    <tr>\n      <th>3</th>\n      <td>ANNIE</td>\n      <td>1973-11-23 06:00:00</td>\n      <td>T</td>\n      <td>2.0</td>\n      <td>1.0</td>\n      <td>20.0</td>\n      <td>-11.10</td>\n      <td>94.60</td>\n      <td>1000.0</td>\n      <td>12.9</td>\n      <td>210.0</td>\n      <td>SW</td>\n    </tr>\n    <tr>\n      <th>4</th>\n      <td>ANNIE</td>\n      <td>1973-11-23 12:00:00</td>\n      <td>T</td>\n      <td>2.0</td>\n      <td>1.0</td>\n      <td>20.0</td>\n      <td>-11.20</td>\n      <td>95.00</td>\n      <td>1002.0</td>\n      <td>12.9</td>\n      <td>250.0</td>\n      <td>W</td>\n    </tr>\n    <tr>\n      <th>...</th>\n      <td>...</td>\n      <td>...</td>\n      <td>...</td>\n      <td>...</td>\n      <td>...</td>\n      <td>...</td>\n      <td>...</td>\n      <td>...</td>\n      <td>...</td>\n      <td>...</td>\n      <td>...</td>\n      <td>...</td>\n    </tr>\n    <tr>\n      <th>1686</th>\n      <td>GEORGE</td>\n      <td>2007-03-04 18:00:00</td>\n      <td>T</td>\n      <td>3.0</td>\n      <td>2.0</td>\n      <td>30.0</td>\n      <td>-14.30</td>\n      <td>126.40</td>\n      <td>986.0</td>\n      <td>20.6</td>\n      <td>270.0</td>\n      <td>W</td>\n    </tr>\n    <tr>\n      <th>1687</th>\n      <td>Carlos</td>\n      <td>2011-02-15 12:00:00</td>\n      <td>T</td>\n      <td>3.0</td>\n      <td>4.0</td>\n      <td>21.0</td>\n      <td>-12.73</td>\n      <td>130.61</td>\n      <td>999.0</td>\n      <td>20.6</td>\n      <td>350.0</td>\n      <td>N</td>\n    </tr>\n    <tr>\n      <th>1688</th>\n      <td>Carlos</td>\n      <td>2011-02-15 21:00:00</td>\n      <td>T</td>\n      <td>3.0</td>\n      <td>2.0</td>\n      <td>30.0</td>\n      <td>-12.54</td>\n      <td>130.72</td>\n      <td>993.0</td>\n      <td>18.0</td>\n      <td>210.0</td>\n      <td>SW</td>\n    </tr>\n    <tr>\n      <th>1689</th>\n      <td>Carlos</td>\n      <td>2011-02-16 00:00:00</td>\n      <td>T</td>\n      <td>3.0</td>\n      <td>2.0</td>\n      <td>30.0</td>\n      <td>-12.41</td>\n      <td>130.99</td>\n      <td>995.0</td>\n      <td>18.0</td>\n      <td>210.0</td>\n      <td>SW</td>\n    </tr>\n    <tr>\n      <th>1690</th>\n      <td>Carlos</td>\n      <td>2011-02-16 09:00:00</td>\n      <td>T</td>\n      <td>3.0</td>\n      <td>2.0</td>\n      <td>30.0</td>\n      <td>-12.54</td>\n      <td>130.98</td>\n      <td>994.0</td>\n      <td>20.6</td>\n      <td>220.0</td>\n      <td>SW</td>\n    </tr>\n  </tbody>\n</table>\n<p>1691 rows × 12 columns</p>\n</div>"
     },
     "metadata": {},
     "execution_count": 4
    }
   ],
   "source": [
    "data = pd.read_csv(\"data/Cyclone_ML.csv\")\n",
    "data"
   ]
  },
  {
   "cell_type": "code",
   "execution_count": 5,
   "metadata": {},
   "outputs": [
    {
     "output_type": "execute_result",
     "data": {
      "text/plain": [
       "         NAME                   TM TYPE  DATA_SRC  SURFACE_CODE  CYC_TYPE  \\\n",
       "0      ANNIE   1973-11-22 06:00:00    T       2.0           1.0      20.0   \n",
       "1      ANNIE   1973-11-22 12:00:00    T       2.0           1.0      20.0   \n",
       "2      ANNIE   1973-11-23 00:01:00    T       2.0           1.0      20.0   \n",
       "3      ANNIE   1973-11-23 06:00:00    T       2.0           1.0      20.0   \n",
       "4      ANNIE   1973-11-23 12:00:00    T       2.0           1.0      20.0   \n",
       "...       ...                  ...  ...       ...           ...       ...   \n",
       "1686  GEORGE   2007-03-04 18:00:00    T       3.0           2.0      30.0   \n",
       "1687  Carlos   2011-02-15 12:00:00    T       3.0           4.0      21.0   \n",
       "1688  Carlos   2011-02-15 21:00:00    T       3.0           2.0      30.0   \n",
       "1689  Carlos   2011-02-16 00:00:00    T       3.0           2.0      30.0   \n",
       "1690  Carlos   2011-02-16 09:00:00    T       3.0           2.0      30.0   \n",
       "\n",
       "        LAT     LON  CENTRAL_PRES  MAX_WIND_SPD  MAX_REP_WIND_DIR  \\\n",
       "0    -11.00   92.60        1001.0          12.9             100.0   \n",
       "1    -11.10   93.10        1002.0          12.9             110.0   \n",
       "2    -11.10   94.20        1003.0          12.9             160.0   \n",
       "3    -11.10   94.60        1000.0          12.9             210.0   \n",
       "4    -11.20   95.00        1002.0          12.9             250.0   \n",
       "...     ...     ...           ...           ...               ...   \n",
       "1686 -14.30  126.40         986.0          20.6             270.0   \n",
       "1687 -12.73  130.61         999.0          20.6             350.0   \n",
       "1688 -12.54  130.72         993.0          18.0             210.0   \n",
       "1689 -12.41  130.99         995.0          18.0             210.0   \n",
       "1690 -12.54  130.98         994.0          20.6             220.0   \n",
       "\n",
       "     WIND_COMPASS        V60  CENTRAL_INDEX (CI)  \n",
       "0               E  14.202058            2.064005  \n",
       "1               E  13.164642            1.950454  \n",
       "2               S  12.079869            1.829259  \n",
       "3              SW  15.199143            2.171169  \n",
       "4               W  13.164642            1.950454  \n",
       "...           ...        ...                 ...  \n",
       "1686            W  26.710077            3.306407  \n",
       "1687            N  16.161289            2.272897  \n",
       "1688           SW  21.390858            2.801605  \n",
       "1689           SW  19.734306            2.638106  \n",
       "1690           SW  20.571803            2.721184  \n",
       "\n",
       "[1691 rows x 14 columns]"
      ],
      "text/html": "<div>\n<style scoped>\n    .dataframe tbody tr th:only-of-type {\n        vertical-align: middle;\n    }\n\n    .dataframe tbody tr th {\n        vertical-align: top;\n    }\n\n    .dataframe thead th {\n        text-align: right;\n    }\n</style>\n<table border=\"1\" class=\"dataframe\">\n  <thead>\n    <tr style=\"text-align: right;\">\n      <th></th>\n      <th>NAME</th>\n      <th>TM</th>\n      <th>TYPE</th>\n      <th>DATA_SRC</th>\n      <th>SURFACE_CODE</th>\n      <th>CYC_TYPE</th>\n      <th>LAT</th>\n      <th>LON</th>\n      <th>CENTRAL_PRES</th>\n      <th>MAX_WIND_SPD</th>\n      <th>MAX_REP_WIND_DIR</th>\n      <th>WIND_COMPASS</th>\n      <th>V60</th>\n      <th>CENTRAL_INDEX (CI)</th>\n    </tr>\n  </thead>\n  <tbody>\n    <tr>\n      <th>0</th>\n      <td>ANNIE</td>\n      <td>1973-11-22 06:00:00</td>\n      <td>T</td>\n      <td>2.0</td>\n      <td>1.0</td>\n      <td>20.0</td>\n      <td>-11.00</td>\n      <td>92.60</td>\n      <td>1001.0</td>\n      <td>12.9</td>\n      <td>100.0</td>\n      <td>E</td>\n      <td>14.202058</td>\n      <td>2.064005</td>\n    </tr>\n    <tr>\n      <th>1</th>\n      <td>ANNIE</td>\n      <td>1973-11-22 12:00:00</td>\n      <td>T</td>\n      <td>2.0</td>\n      <td>1.0</td>\n      <td>20.0</td>\n      <td>-11.10</td>\n      <td>93.10</td>\n      <td>1002.0</td>\n      <td>12.9</td>\n      <td>110.0</td>\n      <td>E</td>\n      <td>13.164642</td>\n      <td>1.950454</td>\n    </tr>\n    <tr>\n      <th>2</th>\n      <td>ANNIE</td>\n      <td>1973-11-23 00:01:00</td>\n      <td>T</td>\n      <td>2.0</td>\n      <td>1.0</td>\n      <td>20.0</td>\n      <td>-11.10</td>\n      <td>94.20</td>\n      <td>1003.0</td>\n      <td>12.9</td>\n      <td>160.0</td>\n      <td>S</td>\n      <td>12.079869</td>\n      <td>1.829259</td>\n    </tr>\n    <tr>\n      <th>3</th>\n      <td>ANNIE</td>\n      <td>1973-11-23 06:00:00</td>\n      <td>T</td>\n      <td>2.0</td>\n      <td>1.0</td>\n      <td>20.0</td>\n      <td>-11.10</td>\n      <td>94.60</td>\n      <td>1000.0</td>\n      <td>12.9</td>\n      <td>210.0</td>\n      <td>SW</td>\n      <td>15.199143</td>\n      <td>2.171169</td>\n    </tr>\n    <tr>\n      <th>4</th>\n      <td>ANNIE</td>\n      <td>1973-11-23 12:00:00</td>\n      <td>T</td>\n      <td>2.0</td>\n      <td>1.0</td>\n      <td>20.0</td>\n      <td>-11.20</td>\n      <td>95.00</td>\n      <td>1002.0</td>\n      <td>12.9</td>\n      <td>250.0</td>\n      <td>W</td>\n      <td>13.164642</td>\n      <td>1.950454</td>\n    </tr>\n    <tr>\n      <th>...</th>\n      <td>...</td>\n      <td>...</td>\n      <td>...</td>\n      <td>...</td>\n      <td>...</td>\n      <td>...</td>\n      <td>...</td>\n      <td>...</td>\n      <td>...</td>\n      <td>...</td>\n      <td>...</td>\n      <td>...</td>\n      <td>...</td>\n      <td>...</td>\n    </tr>\n    <tr>\n      <th>1686</th>\n      <td>GEORGE</td>\n      <td>2007-03-04 18:00:00</td>\n      <td>T</td>\n      <td>3.0</td>\n      <td>2.0</td>\n      <td>30.0</td>\n      <td>-14.30</td>\n      <td>126.40</td>\n      <td>986.0</td>\n      <td>20.6</td>\n      <td>270.0</td>\n      <td>W</td>\n      <td>26.710077</td>\n      <td>3.306407</td>\n    </tr>\n    <tr>\n      <th>1687</th>\n      <td>Carlos</td>\n      <td>2011-02-15 12:00:00</td>\n      <td>T</td>\n      <td>3.0</td>\n      <td>4.0</td>\n      <td>21.0</td>\n      <td>-12.73</td>\n      <td>130.61</td>\n      <td>999.0</td>\n      <td>20.6</td>\n      <td>350.0</td>\n      <td>N</td>\n      <td>16.161289</td>\n      <td>2.272897</td>\n    </tr>\n    <tr>\n      <th>1688</th>\n      <td>Carlos</td>\n      <td>2011-02-15 21:00:00</td>\n      <td>T</td>\n      <td>3.0</td>\n      <td>2.0</td>\n      <td>30.0</td>\n      <td>-12.54</td>\n      <td>130.72</td>\n      <td>993.0</td>\n      <td>18.0</td>\n      <td>210.0</td>\n      <td>SW</td>\n      <td>21.390858</td>\n      <td>2.801605</td>\n    </tr>\n    <tr>\n      <th>1689</th>\n      <td>Carlos</td>\n      <td>2011-02-16 00:00:00</td>\n      <td>T</td>\n      <td>3.0</td>\n      <td>2.0</td>\n      <td>30.0</td>\n      <td>-12.41</td>\n      <td>130.99</td>\n      <td>995.0</td>\n      <td>18.0</td>\n      <td>210.0</td>\n      <td>SW</td>\n      <td>19.734306</td>\n      <td>2.638106</td>\n    </tr>\n    <tr>\n      <th>1690</th>\n      <td>Carlos</td>\n      <td>2011-02-16 09:00:00</td>\n      <td>T</td>\n      <td>3.0</td>\n      <td>2.0</td>\n      <td>30.0</td>\n      <td>-12.54</td>\n      <td>130.98</td>\n      <td>994.0</td>\n      <td>20.6</td>\n      <td>220.0</td>\n      <td>SW</td>\n      <td>20.571803</td>\n      <td>2.721184</td>\n    </tr>\n  </tbody>\n</table>\n<p>1691 rows × 14 columns</p>\n</div>"
     },
     "metadata": {},
     "execution_count": 5
    }
   ],
   "source": [
    "#add Cyclone Index (CI) and Average wind speed\n",
    "data[\"V60\"] = 3.45*(1010 - (data.CENTRAL_PRES))**0.644\n",
    "data[\"CENTRAL_INDEX (CI)\"] = (0.186*data.V60)**0.746\n",
    "data"
   ]
  },
  {
   "cell_type": "code",
   "execution_count": 8,
   "metadata": {},
   "outputs": [
    {
     "output_type": "execute_result",
     "data": {
      "text/plain": [
       "      DATA_SRC  SURFACE_CODE  CYC_TYPE    LAT     LON  CENTRAL_PRES  \\\n",
       "0          2.0           1.0      20.0 -11.00   92.60        1001.0   \n",
       "1          2.0           1.0      20.0 -11.10   93.10        1002.0   \n",
       "2          2.0           1.0      20.0 -11.10   94.20        1003.0   \n",
       "3          2.0           1.0      20.0 -11.10   94.60        1000.0   \n",
       "4          2.0           1.0      20.0 -11.20   95.00        1002.0   \n",
       "...        ...           ...       ...    ...     ...           ...   \n",
       "1686       3.0           2.0      30.0 -14.30  126.40         986.0   \n",
       "1687       3.0           4.0      21.0 -12.73  130.61         999.0   \n",
       "1688       3.0           2.0      30.0 -12.54  130.72         993.0   \n",
       "1689       3.0           2.0      30.0 -12.41  130.99         995.0   \n",
       "1690       3.0           2.0      30.0 -12.54  130.98         994.0   \n",
       "\n",
       "      MAX_WIND_SPD  MAX_REP_WIND_DIR WIND_COMPASS        V60  \\\n",
       "0             12.9             100.0            E  14.202058   \n",
       "1             12.9             110.0            E  13.164642   \n",
       "2             12.9             160.0            S  12.079869   \n",
       "3             12.9             210.0           SW  15.199143   \n",
       "4             12.9             250.0            W  13.164642   \n",
       "...            ...               ...          ...        ...   \n",
       "1686          20.6             270.0            W  26.710077   \n",
       "1687          20.6             350.0            N  16.161289   \n",
       "1688          18.0             210.0           SW  21.390858   \n",
       "1689          18.0             210.0           SW  19.734306   \n",
       "1690          20.6             220.0           SW  20.571803   \n",
       "\n",
       "      CENTRAL_INDEX (CI)  \n",
       "0               2.064005  \n",
       "1               1.950454  \n",
       "2               1.829259  \n",
       "3               2.171169  \n",
       "4               1.950454  \n",
       "...                  ...  \n",
       "1686            3.306407  \n",
       "1687            2.272897  \n",
       "1688            2.801605  \n",
       "1689            2.638106  \n",
       "1690            2.721184  \n",
       "\n",
       "[1691 rows x 11 columns]"
      ],
      "text/html": "<div>\n<style scoped>\n    .dataframe tbody tr th:only-of-type {\n        vertical-align: middle;\n    }\n\n    .dataframe tbody tr th {\n        vertical-align: top;\n    }\n\n    .dataframe thead th {\n        text-align: right;\n    }\n</style>\n<table border=\"1\" class=\"dataframe\">\n  <thead>\n    <tr style=\"text-align: right;\">\n      <th></th>\n      <th>DATA_SRC</th>\n      <th>SURFACE_CODE</th>\n      <th>CYC_TYPE</th>\n      <th>LAT</th>\n      <th>LON</th>\n      <th>CENTRAL_PRES</th>\n      <th>MAX_WIND_SPD</th>\n      <th>MAX_REP_WIND_DIR</th>\n      <th>WIND_COMPASS</th>\n      <th>V60</th>\n      <th>CENTRAL_INDEX (CI)</th>\n    </tr>\n  </thead>\n  <tbody>\n    <tr>\n      <th>0</th>\n      <td>2.0</td>\n      <td>1.0</td>\n      <td>20.0</td>\n      <td>-11.00</td>\n      <td>92.60</td>\n      <td>1001.0</td>\n      <td>12.9</td>\n      <td>100.0</td>\n      <td>E</td>\n      <td>14.202058</td>\n      <td>2.064005</td>\n    </tr>\n    <tr>\n      <th>1</th>\n      <td>2.0</td>\n      <td>1.0</td>\n      <td>20.0</td>\n      <td>-11.10</td>\n      <td>93.10</td>\n      <td>1002.0</td>\n      <td>12.9</td>\n      <td>110.0</td>\n      <td>E</td>\n      <td>13.164642</td>\n      <td>1.950454</td>\n    </tr>\n    <tr>\n      <th>2</th>\n      <td>2.0</td>\n      <td>1.0</td>\n      <td>20.0</td>\n      <td>-11.10</td>\n      <td>94.20</td>\n      <td>1003.0</td>\n      <td>12.9</td>\n      <td>160.0</td>\n      <td>S</td>\n      <td>12.079869</td>\n      <td>1.829259</td>\n    </tr>\n    <tr>\n      <th>3</th>\n      <td>2.0</td>\n      <td>1.0</td>\n      <td>20.0</td>\n      <td>-11.10</td>\n      <td>94.60</td>\n      <td>1000.0</td>\n      <td>12.9</td>\n      <td>210.0</td>\n      <td>SW</td>\n      <td>15.199143</td>\n      <td>2.171169</td>\n    </tr>\n    <tr>\n      <th>4</th>\n      <td>2.0</td>\n      <td>1.0</td>\n      <td>20.0</td>\n      <td>-11.20</td>\n      <td>95.00</td>\n      <td>1002.0</td>\n      <td>12.9</td>\n      <td>250.0</td>\n      <td>W</td>\n      <td>13.164642</td>\n      <td>1.950454</td>\n    </tr>\n    <tr>\n      <th>...</th>\n      <td>...</td>\n      <td>...</td>\n      <td>...</td>\n      <td>...</td>\n      <td>...</td>\n      <td>...</td>\n      <td>...</td>\n      <td>...</td>\n      <td>...</td>\n      <td>...</td>\n      <td>...</td>\n    </tr>\n    <tr>\n      <th>1686</th>\n      <td>3.0</td>\n      <td>2.0</td>\n      <td>30.0</td>\n      <td>-14.30</td>\n      <td>126.40</td>\n      <td>986.0</td>\n      <td>20.6</td>\n      <td>270.0</td>\n      <td>W</td>\n      <td>26.710077</td>\n      <td>3.306407</td>\n    </tr>\n    <tr>\n      <th>1687</th>\n      <td>3.0</td>\n      <td>4.0</td>\n      <td>21.0</td>\n      <td>-12.73</td>\n      <td>130.61</td>\n      <td>999.0</td>\n      <td>20.6</td>\n      <td>350.0</td>\n      <td>N</td>\n      <td>16.161289</td>\n      <td>2.272897</td>\n    </tr>\n    <tr>\n      <th>1688</th>\n      <td>3.0</td>\n      <td>2.0</td>\n      <td>30.0</td>\n      <td>-12.54</td>\n      <td>130.72</td>\n      <td>993.0</td>\n      <td>18.0</td>\n      <td>210.0</td>\n      <td>SW</td>\n      <td>21.390858</td>\n      <td>2.801605</td>\n    </tr>\n    <tr>\n      <th>1689</th>\n      <td>3.0</td>\n      <td>2.0</td>\n      <td>30.0</td>\n      <td>-12.41</td>\n      <td>130.99</td>\n      <td>995.0</td>\n      <td>18.0</td>\n      <td>210.0</td>\n      <td>SW</td>\n      <td>19.734306</td>\n      <td>2.638106</td>\n    </tr>\n    <tr>\n      <th>1690</th>\n      <td>3.0</td>\n      <td>2.0</td>\n      <td>30.0</td>\n      <td>-12.54</td>\n      <td>130.98</td>\n      <td>994.0</td>\n      <td>20.6</td>\n      <td>220.0</td>\n      <td>SW</td>\n      <td>20.571803</td>\n      <td>2.721184</td>\n    </tr>\n  </tbody>\n</table>\n<p>1691 rows × 11 columns</p>\n</div>"
     },
     "metadata": {},
     "execution_count": 8
    }
   ],
   "source": [
    "data_df = data[['DATA_SRC', 'SURFACE_CODE', 'CYC_TYPE', 'LAT',\n",
    "       'LON', 'CENTRAL_PRES', 'MAX_WIND_SPD', 'MAX_REP_WIND_DIR',\n",
    "       'WIND_COMPASS', 'V60', 'CENTRAL_INDEX (CI)']]\n",
    "data_df"
   ]
  },
  {
   "cell_type": "code",
   "execution_count": 9,
   "metadata": {},
   "outputs": [],
   "source": [
    "#export the data to csv\n",
    "data_df.to_csv(\"data/data_ml_calc.csv\")"
   ]
  },
  {
   "cell_type": "code",
   "execution_count": null,
   "metadata": {},
   "outputs": [],
   "source": []
  }
 ]
}