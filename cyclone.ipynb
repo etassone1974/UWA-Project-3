{
 "cells": [
  {
   "cell_type": "code",
   "execution_count": 26,
   "id": "continent-boulder",
   "metadata": {},
   "outputs": [],
   "source": [
    "import pandas as pd\n",
    "import datetime as dt\n",
    "import numpy as np\n",
    "import matplotlib as plt"
   ]
  },
  {
   "cell_type": "code",
   "execution_count": 27,
   "id": "unique-arena",
   "metadata": {
    "scrolled": true
   },
   "outputs": [
    {
     "output_type": "execute_result",
     "data": {
      "text/plain": [
       "           NAME DISTURBANCE_ID               TM TYPE  DATA_SRC  SURFACE_CODE  \\\n",
       "0      unnamed    AU190607_01U  17/1/1907 23:00    T       NaN           1.0   \n",
       "1      unnamed    AU190607_01U  18/1/1907 23:00    T       NaN           3.0   \n",
       "2      unnamed    AU190607_01U  19/1/1907 23:00    T       NaN           2.0   \n",
       "3      unnamed    AU190607_01U  20/1/1907 23:00    T       NaN           2.0   \n",
       "4      unnamed    AU190607_01U  21/1/1907 23:00    T       NaN           4.0   \n",
       "...         ...            ...              ...  ...       ...           ...   \n",
       "28077   noname    AU202021_12U    7/2/2021 0:00    D       NaN           NaN   \n",
       "28078   noname    AU202021_12U    7/2/2021 6:00    D       NaN           NaN   \n",
       "28079   noname    AU202021_12U   7/2/2021 12:00    D       NaN           NaN   \n",
       "28080   noname    AU202021_12U   7/2/2021 18:00    D       NaN           NaN   \n",
       "28081   noname    AU202021_12U    8/2/2021 0:00    D       NaN           NaN   \n",
       "\n",
       "       CYC_TYPE   LAT    LON  POSITION_METHOD  ...  MAX_REP_SWL_PER  \\\n",
       "0           NaN -13.0  146.5              NaN  ...              NaN   \n",
       "1           NaN -15.0  145.0              NaN  ...              NaN   \n",
       "2           NaN -14.0  143.0              NaN  ...              NaN   \n",
       "3           NaN -13.5  142.0              NaN  ...              NaN   \n",
       "4           NaN -15.6  141.5              NaN  ...              NaN   \n",
       "...         ...   ...    ...              ...  ...              ...   \n",
       "28077       NaN -30.5  114.6              NaN  ...              NaN   \n",
       "28078       NaN -31.3  115.1              NaN  ...              NaN   \n",
       "28079       NaN -32.6  115.8              NaN  ...              NaN   \n",
       "28080       NaN -34.0  115.9              NaN  ...              NaN   \n",
       "28081       NaN -35.5  116.2              NaN  ...              NaN   \n",
       "\n",
       "       MAX_REP_SWL_METHOD  MAX_REP_SWL_LON  MAX_REP_SWL_LAT  \\\n",
       "0                     NaN              NaN              NaN   \n",
       "1                     NaN              NaN              NaN   \n",
       "2                     NaN              NaN              NaN   \n",
       "3                     NaN              NaN              NaN   \n",
       "4                     NaN              NaN              NaN   \n",
       "...                   ...              ...              ...   \n",
       "28077                 NaN              NaN              NaN   \n",
       "28078                 NaN              NaN              NaN   \n",
       "28079                 NaN              NaN              NaN   \n",
       "28080                 NaN              NaN              NaN   \n",
       "28081                 NaN              NaN              NaN   \n",
       "\n",
       "       MAX_REP_TIDE_ANOM  MAX_REP_TIDE_ANOM_UNCERTAINTY  \\\n",
       "0                    NaN                            NaN   \n",
       "1                    NaN                            NaN   \n",
       "2                    NaN                            NaN   \n",
       "3                    NaN                            NaN   \n",
       "4                    NaN                            NaN   \n",
       "...                  ...                            ...   \n",
       "28077                NaN                            NaN   \n",
       "28078                NaN                            NaN   \n",
       "28079                NaN                            NaN   \n",
       "28080                NaN                            NaN   \n",
       "28081                NaN                            NaN   \n",
       "\n",
       "       MAX_REP_TIDE_ANOM_METHOD  MAX_REP_TIDE_ANOM_LON  MAX_REP_TIDE_ANOM_LAT  \\\n",
       "0                           NaN                    NaN                    NaN   \n",
       "1                           NaN                    NaN                    NaN   \n",
       "2                           NaN                    NaN                    NaN   \n",
       "3                           NaN                    NaN                    NaN   \n",
       "4                           NaN                    NaN                    NaN   \n",
       "...                         ...                    ...                    ...   \n",
       "28077                       NaN                    NaN                    NaN   \n",
       "28078                       NaN                    NaN                    NaN   \n",
       "28079                       NaN                    NaN                    NaN   \n",
       "28080                       NaN                    NaN                    NaN   \n",
       "28081                       NaN                    NaN                    NaN   \n",
       "\n",
       "                               COMMENT  \n",
       "0      Imported from CYCARD; June 2009  \n",
       "1      Imported from CYCARD; June 2009  \n",
       "2      Imported from CYCARD; June 2009  \n",
       "3      Imported from CYCARD; June 2009  \n",
       "4      Imported from CYCARD; June 2009  \n",
       "...                                ...  \n",
       "28077                              NaN  \n",
       "28078                              NaN  \n",
       "28079                              NaN  \n",
       "28080                              NaN  \n",
       "28081                              NaN  \n",
       "\n",
       "[28082 rows x 79 columns]"
      ],
      "text/html": "<div>\n<style scoped>\n    .dataframe tbody tr th:only-of-type {\n        vertical-align: middle;\n    }\n\n    .dataframe tbody tr th {\n        vertical-align: top;\n    }\n\n    .dataframe thead th {\n        text-align: right;\n    }\n</style>\n<table border=\"1\" class=\"dataframe\">\n  <thead>\n    <tr style=\"text-align: right;\">\n      <th></th>\n      <th>NAME</th>\n      <th>DISTURBANCE_ID</th>\n      <th>TM</th>\n      <th>TYPE</th>\n      <th>DATA_SRC</th>\n      <th>SURFACE_CODE</th>\n      <th>CYC_TYPE</th>\n      <th>LAT</th>\n      <th>LON</th>\n      <th>POSITION_METHOD</th>\n      <th>...</th>\n      <th>MAX_REP_SWL_PER</th>\n      <th>MAX_REP_SWL_METHOD</th>\n      <th>MAX_REP_SWL_LON</th>\n      <th>MAX_REP_SWL_LAT</th>\n      <th>MAX_REP_TIDE_ANOM</th>\n      <th>MAX_REP_TIDE_ANOM_UNCERTAINTY</th>\n      <th>MAX_REP_TIDE_ANOM_METHOD</th>\n      <th>MAX_REP_TIDE_ANOM_LON</th>\n      <th>MAX_REP_TIDE_ANOM_LAT</th>\n      <th>COMMENT</th>\n    </tr>\n  </thead>\n  <tbody>\n    <tr>\n      <th>0</th>\n      <td>unnamed</td>\n      <td>AU190607_01U</td>\n      <td>17/1/1907 23:00</td>\n      <td>T</td>\n      <td>NaN</td>\n      <td>1.0</td>\n      <td>NaN</td>\n      <td>-13.0</td>\n      <td>146.5</td>\n      <td>NaN</td>\n      <td>...</td>\n      <td>NaN</td>\n      <td>NaN</td>\n      <td>NaN</td>\n      <td>NaN</td>\n      <td>NaN</td>\n      <td>NaN</td>\n      <td>NaN</td>\n      <td>NaN</td>\n      <td>NaN</td>\n      <td>Imported from CYCARD; June 2009</td>\n    </tr>\n    <tr>\n      <th>1</th>\n      <td>unnamed</td>\n      <td>AU190607_01U</td>\n      <td>18/1/1907 23:00</td>\n      <td>T</td>\n      <td>NaN</td>\n      <td>3.0</td>\n      <td>NaN</td>\n      <td>-15.0</td>\n      <td>145.0</td>\n      <td>NaN</td>\n      <td>...</td>\n      <td>NaN</td>\n      <td>NaN</td>\n      <td>NaN</td>\n      <td>NaN</td>\n      <td>NaN</td>\n      <td>NaN</td>\n      <td>NaN</td>\n      <td>NaN</td>\n      <td>NaN</td>\n      <td>Imported from CYCARD; June 2009</td>\n    </tr>\n    <tr>\n      <th>2</th>\n      <td>unnamed</td>\n      <td>AU190607_01U</td>\n      <td>19/1/1907 23:00</td>\n      <td>T</td>\n      <td>NaN</td>\n      <td>2.0</td>\n      <td>NaN</td>\n      <td>-14.0</td>\n      <td>143.0</td>\n      <td>NaN</td>\n      <td>...</td>\n      <td>NaN</td>\n      <td>NaN</td>\n      <td>NaN</td>\n      <td>NaN</td>\n      <td>NaN</td>\n      <td>NaN</td>\n      <td>NaN</td>\n      <td>NaN</td>\n      <td>NaN</td>\n      <td>Imported from CYCARD; June 2009</td>\n    </tr>\n    <tr>\n      <th>3</th>\n      <td>unnamed</td>\n      <td>AU190607_01U</td>\n      <td>20/1/1907 23:00</td>\n      <td>T</td>\n      <td>NaN</td>\n      <td>2.0</td>\n      <td>NaN</td>\n      <td>-13.5</td>\n      <td>142.0</td>\n      <td>NaN</td>\n      <td>...</td>\n      <td>NaN</td>\n      <td>NaN</td>\n      <td>NaN</td>\n      <td>NaN</td>\n      <td>NaN</td>\n      <td>NaN</td>\n      <td>NaN</td>\n      <td>NaN</td>\n      <td>NaN</td>\n      <td>Imported from CYCARD; June 2009</td>\n    </tr>\n    <tr>\n      <th>4</th>\n      <td>unnamed</td>\n      <td>AU190607_01U</td>\n      <td>21/1/1907 23:00</td>\n      <td>T</td>\n      <td>NaN</td>\n      <td>4.0</td>\n      <td>NaN</td>\n      <td>-15.6</td>\n      <td>141.5</td>\n      <td>NaN</td>\n      <td>...</td>\n      <td>NaN</td>\n      <td>NaN</td>\n      <td>NaN</td>\n      <td>NaN</td>\n      <td>NaN</td>\n      <td>NaN</td>\n      <td>NaN</td>\n      <td>NaN</td>\n      <td>NaN</td>\n      <td>Imported from CYCARD; June 2009</td>\n    </tr>\n    <tr>\n      <th>...</th>\n      <td>...</td>\n      <td>...</td>\n      <td>...</td>\n      <td>...</td>\n      <td>...</td>\n      <td>...</td>\n      <td>...</td>\n      <td>...</td>\n      <td>...</td>\n      <td>...</td>\n      <td>...</td>\n      <td>...</td>\n      <td>...</td>\n      <td>...</td>\n      <td>...</td>\n      <td>...</td>\n      <td>...</td>\n      <td>...</td>\n      <td>...</td>\n      <td>...</td>\n      <td>...</td>\n    </tr>\n    <tr>\n      <th>28077</th>\n      <td>noname</td>\n      <td>AU202021_12U</td>\n      <td>7/2/2021 0:00</td>\n      <td>D</td>\n      <td>NaN</td>\n      <td>NaN</td>\n      <td>NaN</td>\n      <td>-30.5</td>\n      <td>114.6</td>\n      <td>NaN</td>\n      <td>...</td>\n      <td>NaN</td>\n      <td>NaN</td>\n      <td>NaN</td>\n      <td>NaN</td>\n      <td>NaN</td>\n      <td>NaN</td>\n      <td>NaN</td>\n      <td>NaN</td>\n      <td>NaN</td>\n      <td>NaN</td>\n    </tr>\n    <tr>\n      <th>28078</th>\n      <td>noname</td>\n      <td>AU202021_12U</td>\n      <td>7/2/2021 6:00</td>\n      <td>D</td>\n      <td>NaN</td>\n      <td>NaN</td>\n      <td>NaN</td>\n      <td>-31.3</td>\n      <td>115.1</td>\n      <td>NaN</td>\n      <td>...</td>\n      <td>NaN</td>\n      <td>NaN</td>\n      <td>NaN</td>\n      <td>NaN</td>\n      <td>NaN</td>\n      <td>NaN</td>\n      <td>NaN</td>\n      <td>NaN</td>\n      <td>NaN</td>\n      <td>NaN</td>\n    </tr>\n    <tr>\n      <th>28079</th>\n      <td>noname</td>\n      <td>AU202021_12U</td>\n      <td>7/2/2021 12:00</td>\n      <td>D</td>\n      <td>NaN</td>\n      <td>NaN</td>\n      <td>NaN</td>\n      <td>-32.6</td>\n      <td>115.8</td>\n      <td>NaN</td>\n      <td>...</td>\n      <td>NaN</td>\n      <td>NaN</td>\n      <td>NaN</td>\n      <td>NaN</td>\n      <td>NaN</td>\n      <td>NaN</td>\n      <td>NaN</td>\n      <td>NaN</td>\n      <td>NaN</td>\n      <td>NaN</td>\n    </tr>\n    <tr>\n      <th>28080</th>\n      <td>noname</td>\n      <td>AU202021_12U</td>\n      <td>7/2/2021 18:00</td>\n      <td>D</td>\n      <td>NaN</td>\n      <td>NaN</td>\n      <td>NaN</td>\n      <td>-34.0</td>\n      <td>115.9</td>\n      <td>NaN</td>\n      <td>...</td>\n      <td>NaN</td>\n      <td>NaN</td>\n      <td>NaN</td>\n      <td>NaN</td>\n      <td>NaN</td>\n      <td>NaN</td>\n      <td>NaN</td>\n      <td>NaN</td>\n      <td>NaN</td>\n      <td>NaN</td>\n    </tr>\n    <tr>\n      <th>28081</th>\n      <td>noname</td>\n      <td>AU202021_12U</td>\n      <td>8/2/2021 0:00</td>\n      <td>D</td>\n      <td>NaN</td>\n      <td>NaN</td>\n      <td>NaN</td>\n      <td>-35.5</td>\n      <td>116.2</td>\n      <td>NaN</td>\n      <td>...</td>\n      <td>NaN</td>\n      <td>NaN</td>\n      <td>NaN</td>\n      <td>NaN</td>\n      <td>NaN</td>\n      <td>NaN</td>\n      <td>NaN</td>\n      <td>NaN</td>\n      <td>NaN</td>\n      <td>NaN</td>\n    </tr>\n  </tbody>\n</table>\n<p>28082 rows × 79 columns</p>\n</div>"
     },
     "metadata": {},
     "execution_count": 27
    }
   ],
   "source": [
    "data = pd.read_csv(\"data/IDCKMSTM0S.csv\", na_values=' ')\n",
    "data"
   ]
  },
  {
   "cell_type": "code",
   "execution_count": 28,
   "id": "front-average",
   "metadata": {
    "scrolled": true
   },
   "outputs": [
    {
     "output_type": "execute_result",
     "data": {
      "text/plain": [
       "          NAME DISTURBANCE_ID                  TM TYPE  DATA_SRC  \\\n",
       "16374  ROSITA    AU198990_03U 1990-01-04 18:00:00    T       2.0   \n",
       "16375  ROSITA    AU198990_03U 1990-01-05 00:00:00    T       2.0   \n",
       "16376  ROSITA    AU198990_03U 1990-01-05 06:00:00    T       2.0   \n",
       "16377  ROSITA    AU198990_03U 1990-01-05 12:00:00    T       2.0   \n",
       "16378  ROSITA    AU198990_03U 1990-01-05 18:00:00    T       2.0   \n",
       "...        ...            ...                 ...  ...       ...   \n",
       "28077  noname    AU202021_12U 2021-02-07 00:00:00    D       NaN   \n",
       "28078  noname    AU202021_12U 2021-02-07 06:00:00    D       NaN   \n",
       "28079  noname    AU202021_12U 2021-02-07 12:00:00    D       NaN   \n",
       "28080  noname    AU202021_12U 2021-02-07 18:00:00    D       NaN   \n",
       "28081  noname    AU202021_12U 2021-02-08 00:00:00    D       NaN   \n",
       "\n",
       "       SURFACE_CODE  CYC_TYPE   LAT    LON  POSITION_METHOD  ...  \\\n",
       "16374           1.0      20.0 -12.7  111.7              3.0  ...   \n",
       "16375           1.0      20.0 -12.8  110.6              3.0  ...   \n",
       "16376           1.0      20.0 -12.9  109.8              3.0  ...   \n",
       "16377           1.0      20.0 -13.0  108.5              3.0  ...   \n",
       "16378           1.0      20.0 -13.2  107.0              3.0  ...   \n",
       "...             ...       ...   ...    ...              ...  ...   \n",
       "28077           NaN       NaN -30.5  114.6              NaN  ...   \n",
       "28078           NaN       NaN -31.3  115.1              NaN  ...   \n",
       "28079           NaN       NaN -32.6  115.8              NaN  ...   \n",
       "28080           NaN       NaN -34.0  115.9              NaN  ...   \n",
       "28081           NaN       NaN -35.5  116.2              NaN  ...   \n",
       "\n",
       "       MAX_REP_SWL_PER  MAX_REP_SWL_METHOD  MAX_REP_SWL_LON  MAX_REP_SWL_LAT  \\\n",
       "16374              NaN                 NaN              NaN              NaN   \n",
       "16375              NaN                 NaN              NaN              NaN   \n",
       "16376              NaN                 NaN              NaN              NaN   \n",
       "16377             10.0                 1.0            106.7            -13.6   \n",
       "16378              NaN                 NaN              NaN              NaN   \n",
       "...                ...                 ...              ...              ...   \n",
       "28077              NaN                 NaN              NaN              NaN   \n",
       "28078              NaN                 NaN              NaN              NaN   \n",
       "28079              NaN                 NaN              NaN              NaN   \n",
       "28080              NaN                 NaN              NaN              NaN   \n",
       "28081              NaN                 NaN              NaN              NaN   \n",
       "\n",
       "       MAX_REP_TIDE_ANOM  MAX_REP_TIDE_ANOM_UNCERTAINTY  \\\n",
       "16374                NaN                            NaN   \n",
       "16375                NaN                            NaN   \n",
       "16376                NaN                            NaN   \n",
       "16377                NaN                            NaN   \n",
       "16378                NaN                            NaN   \n",
       "...                  ...                            ...   \n",
       "28077                NaN                            NaN   \n",
       "28078                NaN                            NaN   \n",
       "28079                NaN                            NaN   \n",
       "28080                NaN                            NaN   \n",
       "28081                NaN                            NaN   \n",
       "\n",
       "       MAX_REP_TIDE_ANOM_METHOD  MAX_REP_TIDE_ANOM_LON  MAX_REP_TIDE_ANOM_LAT  \\\n",
       "16374                       NaN                    NaN                    NaN   \n",
       "16375                       NaN                    NaN                    NaN   \n",
       "16376                       NaN                    NaN                    NaN   \n",
       "16377                       NaN                    NaN                    NaN   \n",
       "16378                       NaN                    NaN                    NaN   \n",
       "...                         ...                    ...                    ...   \n",
       "28077                       NaN                    NaN                    NaN   \n",
       "28078                       NaN                    NaN                    NaN   \n",
       "28079                       NaN                    NaN                    NaN   \n",
       "28080                       NaN                    NaN                    NaN   \n",
       "28081                       NaN                    NaN                    NaN   \n",
       "\n",
       "       COMMENT  \n",
       "16374      NaN  \n",
       "16375      NaN  \n",
       "16376      NaN  \n",
       "16377      NaN  \n",
       "16378      NaN  \n",
       "...        ...  \n",
       "28077      NaN  \n",
       "28078      NaN  \n",
       "28079      NaN  \n",
       "28080      NaN  \n",
       "28081      NaN  \n",
       "\n",
       "[11708 rows x 79 columns]"
      ],
      "text/html": "<div>\n<style scoped>\n    .dataframe tbody tr th:only-of-type {\n        vertical-align: middle;\n    }\n\n    .dataframe tbody tr th {\n        vertical-align: top;\n    }\n\n    .dataframe thead th {\n        text-align: right;\n    }\n</style>\n<table border=\"1\" class=\"dataframe\">\n  <thead>\n    <tr style=\"text-align: right;\">\n      <th></th>\n      <th>NAME</th>\n      <th>DISTURBANCE_ID</th>\n      <th>TM</th>\n      <th>TYPE</th>\n      <th>DATA_SRC</th>\n      <th>SURFACE_CODE</th>\n      <th>CYC_TYPE</th>\n      <th>LAT</th>\n      <th>LON</th>\n      <th>POSITION_METHOD</th>\n      <th>...</th>\n      <th>MAX_REP_SWL_PER</th>\n      <th>MAX_REP_SWL_METHOD</th>\n      <th>MAX_REP_SWL_LON</th>\n      <th>MAX_REP_SWL_LAT</th>\n      <th>MAX_REP_TIDE_ANOM</th>\n      <th>MAX_REP_TIDE_ANOM_UNCERTAINTY</th>\n      <th>MAX_REP_TIDE_ANOM_METHOD</th>\n      <th>MAX_REP_TIDE_ANOM_LON</th>\n      <th>MAX_REP_TIDE_ANOM_LAT</th>\n      <th>COMMENT</th>\n    </tr>\n  </thead>\n  <tbody>\n    <tr>\n      <th>16374</th>\n      <td>ROSITA</td>\n      <td>AU198990_03U</td>\n      <td>1990-01-04 18:00:00</td>\n      <td>T</td>\n      <td>2.0</td>\n      <td>1.0</td>\n      <td>20.0</td>\n      <td>-12.7</td>\n      <td>111.7</td>\n      <td>3.0</td>\n      <td>...</td>\n      <td>NaN</td>\n      <td>NaN</td>\n      <td>NaN</td>\n      <td>NaN</td>\n      <td>NaN</td>\n      <td>NaN</td>\n      <td>NaN</td>\n      <td>NaN</td>\n      <td>NaN</td>\n      <td>NaN</td>\n    </tr>\n    <tr>\n      <th>16375</th>\n      <td>ROSITA</td>\n      <td>AU198990_03U</td>\n      <td>1990-01-05 00:00:00</td>\n      <td>T</td>\n      <td>2.0</td>\n      <td>1.0</td>\n      <td>20.0</td>\n      <td>-12.8</td>\n      <td>110.6</td>\n      <td>3.0</td>\n      <td>...</td>\n      <td>NaN</td>\n      <td>NaN</td>\n      <td>NaN</td>\n      <td>NaN</td>\n      <td>NaN</td>\n      <td>NaN</td>\n      <td>NaN</td>\n      <td>NaN</td>\n      <td>NaN</td>\n      <td>NaN</td>\n    </tr>\n    <tr>\n      <th>16376</th>\n      <td>ROSITA</td>\n      <td>AU198990_03U</td>\n      <td>1990-01-05 06:00:00</td>\n      <td>T</td>\n      <td>2.0</td>\n      <td>1.0</td>\n      <td>20.0</td>\n      <td>-12.9</td>\n      <td>109.8</td>\n      <td>3.0</td>\n      <td>...</td>\n      <td>NaN</td>\n      <td>NaN</td>\n      <td>NaN</td>\n      <td>NaN</td>\n      <td>NaN</td>\n      <td>NaN</td>\n      <td>NaN</td>\n      <td>NaN</td>\n      <td>NaN</td>\n      <td>NaN</td>\n    </tr>\n    <tr>\n      <th>16377</th>\n      <td>ROSITA</td>\n      <td>AU198990_03U</td>\n      <td>1990-01-05 12:00:00</td>\n      <td>T</td>\n      <td>2.0</td>\n      <td>1.0</td>\n      <td>20.0</td>\n      <td>-13.0</td>\n      <td>108.5</td>\n      <td>3.0</td>\n      <td>...</td>\n      <td>10.0</td>\n      <td>1.0</td>\n      <td>106.7</td>\n      <td>-13.6</td>\n      <td>NaN</td>\n      <td>NaN</td>\n      <td>NaN</td>\n      <td>NaN</td>\n      <td>NaN</td>\n      <td>NaN</td>\n    </tr>\n    <tr>\n      <th>16378</th>\n      <td>ROSITA</td>\n      <td>AU198990_03U</td>\n      <td>1990-01-05 18:00:00</td>\n      <td>T</td>\n      <td>2.0</td>\n      <td>1.0</td>\n      <td>20.0</td>\n      <td>-13.2</td>\n      <td>107.0</td>\n      <td>3.0</td>\n      <td>...</td>\n      <td>NaN</td>\n      <td>NaN</td>\n      <td>NaN</td>\n      <td>NaN</td>\n      <td>NaN</td>\n      <td>NaN</td>\n      <td>NaN</td>\n      <td>NaN</td>\n      <td>NaN</td>\n      <td>NaN</td>\n    </tr>\n    <tr>\n      <th>...</th>\n      <td>...</td>\n      <td>...</td>\n      <td>...</td>\n      <td>...</td>\n      <td>...</td>\n      <td>...</td>\n      <td>...</td>\n      <td>...</td>\n      <td>...</td>\n      <td>...</td>\n      <td>...</td>\n      <td>...</td>\n      <td>...</td>\n      <td>...</td>\n      <td>...</td>\n      <td>...</td>\n      <td>...</td>\n      <td>...</td>\n      <td>...</td>\n      <td>...</td>\n      <td>...</td>\n    </tr>\n    <tr>\n      <th>28077</th>\n      <td>noname</td>\n      <td>AU202021_12U</td>\n      <td>2021-02-07 00:00:00</td>\n      <td>D</td>\n      <td>NaN</td>\n      <td>NaN</td>\n      <td>NaN</td>\n      <td>-30.5</td>\n      <td>114.6</td>\n      <td>NaN</td>\n      <td>...</td>\n      <td>NaN</td>\n      <td>NaN</td>\n      <td>NaN</td>\n      <td>NaN</td>\n      <td>NaN</td>\n      <td>NaN</td>\n      <td>NaN</td>\n      <td>NaN</td>\n      <td>NaN</td>\n      <td>NaN</td>\n    </tr>\n    <tr>\n      <th>28078</th>\n      <td>noname</td>\n      <td>AU202021_12U</td>\n      <td>2021-02-07 06:00:00</td>\n      <td>D</td>\n      <td>NaN</td>\n      <td>NaN</td>\n      <td>NaN</td>\n      <td>-31.3</td>\n      <td>115.1</td>\n      <td>NaN</td>\n      <td>...</td>\n      <td>NaN</td>\n      <td>NaN</td>\n      <td>NaN</td>\n      <td>NaN</td>\n      <td>NaN</td>\n      <td>NaN</td>\n      <td>NaN</td>\n      <td>NaN</td>\n      <td>NaN</td>\n      <td>NaN</td>\n    </tr>\n    <tr>\n      <th>28079</th>\n      <td>noname</td>\n      <td>AU202021_12U</td>\n      <td>2021-02-07 12:00:00</td>\n      <td>D</td>\n      <td>NaN</td>\n      <td>NaN</td>\n      <td>NaN</td>\n      <td>-32.6</td>\n      <td>115.8</td>\n      <td>NaN</td>\n      <td>...</td>\n      <td>NaN</td>\n      <td>NaN</td>\n      <td>NaN</td>\n      <td>NaN</td>\n      <td>NaN</td>\n      <td>NaN</td>\n      <td>NaN</td>\n      <td>NaN</td>\n      <td>NaN</td>\n      <td>NaN</td>\n    </tr>\n    <tr>\n      <th>28080</th>\n      <td>noname</td>\n      <td>AU202021_12U</td>\n      <td>2021-02-07 18:00:00</td>\n      <td>D</td>\n      <td>NaN</td>\n      <td>NaN</td>\n      <td>NaN</td>\n      <td>-34.0</td>\n      <td>115.9</td>\n      <td>NaN</td>\n      <td>...</td>\n      <td>NaN</td>\n      <td>NaN</td>\n      <td>NaN</td>\n      <td>NaN</td>\n      <td>NaN</td>\n      <td>NaN</td>\n      <td>NaN</td>\n      <td>NaN</td>\n      <td>NaN</td>\n      <td>NaN</td>\n    </tr>\n    <tr>\n      <th>28081</th>\n      <td>noname</td>\n      <td>AU202021_12U</td>\n      <td>2021-02-08 00:00:00</td>\n      <td>D</td>\n      <td>NaN</td>\n      <td>NaN</td>\n      <td>NaN</td>\n      <td>-35.5</td>\n      <td>116.2</td>\n      <td>NaN</td>\n      <td>...</td>\n      <td>NaN</td>\n      <td>NaN</td>\n      <td>NaN</td>\n      <td>NaN</td>\n      <td>NaN</td>\n      <td>NaN</td>\n      <td>NaN</td>\n      <td>NaN</td>\n      <td>NaN</td>\n      <td>NaN</td>\n    </tr>\n  </tbody>\n</table>\n<p>11708 rows × 79 columns</p>\n</div>"
     },
     "metadata": {},
     "execution_count": 28
    }
   ],
   "source": [
    "data['TM'] = pd.to_datetime(data['TM'], format='%d/%m/%Y %H:%M')\n",
    "data_1990 = data.loc[data[\"TM\"] >= \"01-01-1990\"]\n",
    "data_1990"
   ]
  },
  {
   "cell_type": "code",
   "execution_count": 29,
   "id": "improved-nightlife",
   "metadata": {},
   "outputs": [
    {
     "output_type": "execute_result",
     "data": {
      "text/plain": [
       "16374    Rosita\n",
       "16375    Rosita\n",
       "16376    Rosita\n",
       "16377    Rosita\n",
       "16378    Rosita\n",
       "          ...  \n",
       "28077    Noname\n",
       "28078    Noname\n",
       "28079    Noname\n",
       "28080    Noname\n",
       "28081    Noname\n",
       "Name: NAME, Length: 11708, dtype: object"
      ]
     },
     "metadata": {},
     "execution_count": 29
    }
   ],
   "source": [
    "data_df = data_1990[[\"NAME\",\"TM\", \"TYPE\",\"DATA_SRC\", \"SURFACE_CODE\", \"CYC_TYPE\", \"LAT\",\"LON\",\"CENTRAL_PRES\",\n",
    "           \"MAX_WIND_SPD\"]]\n",
    "data_df[\"NAME\"]=data_df[\"NAME\"].apply(lambda x: x.strip().title())\n",
    "data_df[\"NAME\"]"
   ]
  },
  {
   "cell_type": "code",
   "execution_count": 30,
   "id": "structural-object",
   "metadata": {},
   "outputs": [],
   "source": [
    "#Create a copy\n",
    "df_data = data_df.copy()"
   ]
  },
  {
   "cell_type": "code",
   "execution_count": 31,
   "id": "trying-jackson",
   "metadata": {},
   "outputs": [
    {
     "output_type": "execute_result",
     "data": {
      "text/plain": [
       "(8756, 10)"
      ]
     },
     "metadata": {},
     "execution_count": 31
    }
   ],
   "source": [
    "data_df = data_df.dropna()\n",
    "data_df.shape"
   ]
  },
  {
   "cell_type": "code",
   "execution_count": 32,
   "id": "rocky-directive",
   "metadata": {
    "scrolled": true
   },
   "outputs": [],
   "source": [
    "data_df.to_csv(\"data/Cyclone_1990_clean.csv\", sep= \",\",header=True, index=False)"
   ]
  },
  {
   "cell_type": "markdown",
   "id": "funky-edward",
   "metadata": {},
   "source": [
    "## Create a csv file for ML with Wind Direction data"
   ]
  },
  {
   "cell_type": "code",
   "execution_count": 33,
   "id": "previous-sharp",
   "metadata": {},
   "outputs": [
    {
     "output_type": "execute_result",
     "data": {
      "text/plain": [
       "           NAME DISTURBANCE_ID                  TM TYPE  DATA_SRC  \\\n",
       "0      unnamed    AU190607_01U 1907-01-17 23:00:00    T       NaN   \n",
       "1      unnamed    AU190607_01U 1907-01-18 23:00:00    T       NaN   \n",
       "2      unnamed    AU190607_01U 1907-01-19 23:00:00    T       NaN   \n",
       "3      unnamed    AU190607_01U 1907-01-20 23:00:00    T       NaN   \n",
       "4      unnamed    AU190607_01U 1907-01-21 23:00:00    T       NaN   \n",
       "...         ...            ...                 ...  ...       ...   \n",
       "28077   noname    AU202021_12U 2021-02-07 00:00:00    D       NaN   \n",
       "28078   noname    AU202021_12U 2021-02-07 06:00:00    D       NaN   \n",
       "28079   noname    AU202021_12U 2021-02-07 12:00:00    D       NaN   \n",
       "28080   noname    AU202021_12U 2021-02-07 18:00:00    D       NaN   \n",
       "28081   noname    AU202021_12U 2021-02-08 00:00:00    D       NaN   \n",
       "\n",
       "       SURFACE_CODE  CYC_TYPE   LAT    LON  POSITION_METHOD  ...  \\\n",
       "0               1.0       NaN -13.0  146.5              NaN  ...   \n",
       "1               3.0       NaN -15.0  145.0              NaN  ...   \n",
       "2               2.0       NaN -14.0  143.0              NaN  ...   \n",
       "3               2.0       NaN -13.5  142.0              NaN  ...   \n",
       "4               4.0       NaN -15.6  141.5              NaN  ...   \n",
       "...             ...       ...   ...    ...              ...  ...   \n",
       "28077           NaN       NaN -30.5  114.6              NaN  ...   \n",
       "28078           NaN       NaN -31.3  115.1              NaN  ...   \n",
       "28079           NaN       NaN -32.6  115.8              NaN  ...   \n",
       "28080           NaN       NaN -34.0  115.9              NaN  ...   \n",
       "28081           NaN       NaN -35.5  116.2              NaN  ...   \n",
       "\n",
       "       MAX_REP_SWL_PER  MAX_REP_SWL_METHOD  MAX_REP_SWL_LON  MAX_REP_SWL_LAT  \\\n",
       "0                  NaN                 NaN              NaN              NaN   \n",
       "1                  NaN                 NaN              NaN              NaN   \n",
       "2                  NaN                 NaN              NaN              NaN   \n",
       "3                  NaN                 NaN              NaN              NaN   \n",
       "4                  NaN                 NaN              NaN              NaN   \n",
       "...                ...                 ...              ...              ...   \n",
       "28077              NaN                 NaN              NaN              NaN   \n",
       "28078              NaN                 NaN              NaN              NaN   \n",
       "28079              NaN                 NaN              NaN              NaN   \n",
       "28080              NaN                 NaN              NaN              NaN   \n",
       "28081              NaN                 NaN              NaN              NaN   \n",
       "\n",
       "       MAX_REP_TIDE_ANOM  MAX_REP_TIDE_ANOM_UNCERTAINTY  \\\n",
       "0                    NaN                            NaN   \n",
       "1                    NaN                            NaN   \n",
       "2                    NaN                            NaN   \n",
       "3                    NaN                            NaN   \n",
       "4                    NaN                            NaN   \n",
       "...                  ...                            ...   \n",
       "28077                NaN                            NaN   \n",
       "28078                NaN                            NaN   \n",
       "28079                NaN                            NaN   \n",
       "28080                NaN                            NaN   \n",
       "28081                NaN                            NaN   \n",
       "\n",
       "       MAX_REP_TIDE_ANOM_METHOD  MAX_REP_TIDE_ANOM_LON  MAX_REP_TIDE_ANOM_LAT  \\\n",
       "0                           NaN                    NaN                    NaN   \n",
       "1                           NaN                    NaN                    NaN   \n",
       "2                           NaN                    NaN                    NaN   \n",
       "3                           NaN                    NaN                    NaN   \n",
       "4                           NaN                    NaN                    NaN   \n",
       "...                         ...                    ...                    ...   \n",
       "28077                       NaN                    NaN                    NaN   \n",
       "28078                       NaN                    NaN                    NaN   \n",
       "28079                       NaN                    NaN                    NaN   \n",
       "28080                       NaN                    NaN                    NaN   \n",
       "28081                       NaN                    NaN                    NaN   \n",
       "\n",
       "                               COMMENT  \n",
       "0      Imported from CYCARD; June 2009  \n",
       "1      Imported from CYCARD; June 2009  \n",
       "2      Imported from CYCARD; June 2009  \n",
       "3      Imported from CYCARD; June 2009  \n",
       "4      Imported from CYCARD; June 2009  \n",
       "...                                ...  \n",
       "28077                              NaN  \n",
       "28078                              NaN  \n",
       "28079                              NaN  \n",
       "28080                              NaN  \n",
       "28081                              NaN  \n",
       "\n",
       "[28082 rows x 79 columns]"
      ],
      "text/html": "<div>\n<style scoped>\n    .dataframe tbody tr th:only-of-type {\n        vertical-align: middle;\n    }\n\n    .dataframe tbody tr th {\n        vertical-align: top;\n    }\n\n    .dataframe thead th {\n        text-align: right;\n    }\n</style>\n<table border=\"1\" class=\"dataframe\">\n  <thead>\n    <tr style=\"text-align: right;\">\n      <th></th>\n      <th>NAME</th>\n      <th>DISTURBANCE_ID</th>\n      <th>TM</th>\n      <th>TYPE</th>\n      <th>DATA_SRC</th>\n      <th>SURFACE_CODE</th>\n      <th>CYC_TYPE</th>\n      <th>LAT</th>\n      <th>LON</th>\n      <th>POSITION_METHOD</th>\n      <th>...</th>\n      <th>MAX_REP_SWL_PER</th>\n      <th>MAX_REP_SWL_METHOD</th>\n      <th>MAX_REP_SWL_LON</th>\n      <th>MAX_REP_SWL_LAT</th>\n      <th>MAX_REP_TIDE_ANOM</th>\n      <th>MAX_REP_TIDE_ANOM_UNCERTAINTY</th>\n      <th>MAX_REP_TIDE_ANOM_METHOD</th>\n      <th>MAX_REP_TIDE_ANOM_LON</th>\n      <th>MAX_REP_TIDE_ANOM_LAT</th>\n      <th>COMMENT</th>\n    </tr>\n  </thead>\n  <tbody>\n    <tr>\n      <th>0</th>\n      <td>unnamed</td>\n      <td>AU190607_01U</td>\n      <td>1907-01-17 23:00:00</td>\n      <td>T</td>\n      <td>NaN</td>\n      <td>1.0</td>\n      <td>NaN</td>\n      <td>-13.0</td>\n      <td>146.5</td>\n      <td>NaN</td>\n      <td>...</td>\n      <td>NaN</td>\n      <td>NaN</td>\n      <td>NaN</td>\n      <td>NaN</td>\n      <td>NaN</td>\n      <td>NaN</td>\n      <td>NaN</td>\n      <td>NaN</td>\n      <td>NaN</td>\n      <td>Imported from CYCARD; June 2009</td>\n    </tr>\n    <tr>\n      <th>1</th>\n      <td>unnamed</td>\n      <td>AU190607_01U</td>\n      <td>1907-01-18 23:00:00</td>\n      <td>T</td>\n      <td>NaN</td>\n      <td>3.0</td>\n      <td>NaN</td>\n      <td>-15.0</td>\n      <td>145.0</td>\n      <td>NaN</td>\n      <td>...</td>\n      <td>NaN</td>\n      <td>NaN</td>\n      <td>NaN</td>\n      <td>NaN</td>\n      <td>NaN</td>\n      <td>NaN</td>\n      <td>NaN</td>\n      <td>NaN</td>\n      <td>NaN</td>\n      <td>Imported from CYCARD; June 2009</td>\n    </tr>\n    <tr>\n      <th>2</th>\n      <td>unnamed</td>\n      <td>AU190607_01U</td>\n      <td>1907-01-19 23:00:00</td>\n      <td>T</td>\n      <td>NaN</td>\n      <td>2.0</td>\n      <td>NaN</td>\n      <td>-14.0</td>\n      <td>143.0</td>\n      <td>NaN</td>\n      <td>...</td>\n      <td>NaN</td>\n      <td>NaN</td>\n      <td>NaN</td>\n      <td>NaN</td>\n      <td>NaN</td>\n      <td>NaN</td>\n      <td>NaN</td>\n      <td>NaN</td>\n      <td>NaN</td>\n      <td>Imported from CYCARD; June 2009</td>\n    </tr>\n    <tr>\n      <th>3</th>\n      <td>unnamed</td>\n      <td>AU190607_01U</td>\n      <td>1907-01-20 23:00:00</td>\n      <td>T</td>\n      <td>NaN</td>\n      <td>2.0</td>\n      <td>NaN</td>\n      <td>-13.5</td>\n      <td>142.0</td>\n      <td>NaN</td>\n      <td>...</td>\n      <td>NaN</td>\n      <td>NaN</td>\n      <td>NaN</td>\n      <td>NaN</td>\n      <td>NaN</td>\n      <td>NaN</td>\n      <td>NaN</td>\n      <td>NaN</td>\n      <td>NaN</td>\n      <td>Imported from CYCARD; June 2009</td>\n    </tr>\n    <tr>\n      <th>4</th>\n      <td>unnamed</td>\n      <td>AU190607_01U</td>\n      <td>1907-01-21 23:00:00</td>\n      <td>T</td>\n      <td>NaN</td>\n      <td>4.0</td>\n      <td>NaN</td>\n      <td>-15.6</td>\n      <td>141.5</td>\n      <td>NaN</td>\n      <td>...</td>\n      <td>NaN</td>\n      <td>NaN</td>\n      <td>NaN</td>\n      <td>NaN</td>\n      <td>NaN</td>\n      <td>NaN</td>\n      <td>NaN</td>\n      <td>NaN</td>\n      <td>NaN</td>\n      <td>Imported from CYCARD; June 2009</td>\n    </tr>\n    <tr>\n      <th>...</th>\n      <td>...</td>\n      <td>...</td>\n      <td>...</td>\n      <td>...</td>\n      <td>...</td>\n      <td>...</td>\n      <td>...</td>\n      <td>...</td>\n      <td>...</td>\n      <td>...</td>\n      <td>...</td>\n      <td>...</td>\n      <td>...</td>\n      <td>...</td>\n      <td>...</td>\n      <td>...</td>\n      <td>...</td>\n      <td>...</td>\n      <td>...</td>\n      <td>...</td>\n      <td>...</td>\n    </tr>\n    <tr>\n      <th>28077</th>\n      <td>noname</td>\n      <td>AU202021_12U</td>\n      <td>2021-02-07 00:00:00</td>\n      <td>D</td>\n      <td>NaN</td>\n      <td>NaN</td>\n      <td>NaN</td>\n      <td>-30.5</td>\n      <td>114.6</td>\n      <td>NaN</td>\n      <td>...</td>\n      <td>NaN</td>\n      <td>NaN</td>\n      <td>NaN</td>\n      <td>NaN</td>\n      <td>NaN</td>\n      <td>NaN</td>\n      <td>NaN</td>\n      <td>NaN</td>\n      <td>NaN</td>\n      <td>NaN</td>\n    </tr>\n    <tr>\n      <th>28078</th>\n      <td>noname</td>\n      <td>AU202021_12U</td>\n      <td>2021-02-07 06:00:00</td>\n      <td>D</td>\n      <td>NaN</td>\n      <td>NaN</td>\n      <td>NaN</td>\n      <td>-31.3</td>\n      <td>115.1</td>\n      <td>NaN</td>\n      <td>...</td>\n      <td>NaN</td>\n      <td>NaN</td>\n      <td>NaN</td>\n      <td>NaN</td>\n      <td>NaN</td>\n      <td>NaN</td>\n      <td>NaN</td>\n      <td>NaN</td>\n      <td>NaN</td>\n      <td>NaN</td>\n    </tr>\n    <tr>\n      <th>28079</th>\n      <td>noname</td>\n      <td>AU202021_12U</td>\n      <td>2021-02-07 12:00:00</td>\n      <td>D</td>\n      <td>NaN</td>\n      <td>NaN</td>\n      <td>NaN</td>\n      <td>-32.6</td>\n      <td>115.8</td>\n      <td>NaN</td>\n      <td>...</td>\n      <td>NaN</td>\n      <td>NaN</td>\n      <td>NaN</td>\n      <td>NaN</td>\n      <td>NaN</td>\n      <td>NaN</td>\n      <td>NaN</td>\n      <td>NaN</td>\n      <td>NaN</td>\n      <td>NaN</td>\n    </tr>\n    <tr>\n      <th>28080</th>\n      <td>noname</td>\n      <td>AU202021_12U</td>\n      <td>2021-02-07 18:00:00</td>\n      <td>D</td>\n      <td>NaN</td>\n      <td>NaN</td>\n      <td>NaN</td>\n      <td>-34.0</td>\n      <td>115.9</td>\n      <td>NaN</td>\n      <td>...</td>\n      <td>NaN</td>\n      <td>NaN</td>\n      <td>NaN</td>\n      <td>NaN</td>\n      <td>NaN</td>\n      <td>NaN</td>\n      <td>NaN</td>\n      <td>NaN</td>\n      <td>NaN</td>\n      <td>NaN</td>\n    </tr>\n    <tr>\n      <th>28081</th>\n      <td>noname</td>\n      <td>AU202021_12U</td>\n      <td>2021-02-08 00:00:00</td>\n      <td>D</td>\n      <td>NaN</td>\n      <td>NaN</td>\n      <td>NaN</td>\n      <td>-35.5</td>\n      <td>116.2</td>\n      <td>NaN</td>\n      <td>...</td>\n      <td>NaN</td>\n      <td>NaN</td>\n      <td>NaN</td>\n      <td>NaN</td>\n      <td>NaN</td>\n      <td>NaN</td>\n      <td>NaN</td>\n      <td>NaN</td>\n      <td>NaN</td>\n      <td>NaN</td>\n    </tr>\n  </tbody>\n</table>\n<p>28082 rows × 79 columns</p>\n</div>"
     },
     "metadata": {},
     "execution_count": 33
    }
   ],
   "source": [
    "data['TM'] = pd.to_datetime(data['TM'], format='%d/%m/%Y %H:%M')\n",
    "data"
   ]
  },
  {
   "cell_type": "code",
   "execution_count": 34,
   "id": "scheduled-cassette",
   "metadata": {},
   "outputs": [
    {
     "output_type": "execute_result",
     "data": {
      "text/plain": [
       "           NAME                  TM TYPE  DATA_SRC  SURFACE_CODE  CYC_TYPE  \\\n",
       "0      unnamed  1907-01-17 23:00:00    T       NaN           1.0       NaN   \n",
       "1      unnamed  1907-01-18 23:00:00    T       NaN           3.0       NaN   \n",
       "2      unnamed  1907-01-19 23:00:00    T       NaN           2.0       NaN   \n",
       "3      unnamed  1907-01-20 23:00:00    T       NaN           2.0       NaN   \n",
       "4      unnamed  1907-01-21 23:00:00    T       NaN           4.0       NaN   \n",
       "...         ...                 ...  ...       ...           ...       ...   \n",
       "28077   noname  2021-02-07 00:00:00    D       NaN           NaN       NaN   \n",
       "28078   noname  2021-02-07 06:00:00    D       NaN           NaN       NaN   \n",
       "28079   noname  2021-02-07 12:00:00    D       NaN           NaN       NaN   \n",
       "28080   noname  2021-02-07 18:00:00    D       NaN           NaN       NaN   \n",
       "28081   noname  2021-02-08 00:00:00    D       NaN           NaN       NaN   \n",
       "\n",
       "        LAT    LON  CENTRAL_PRES  MAX_WIND_SPD  MAX_REP_WIND_DIR  \n",
       "0     -13.0  146.5         994.0           NaN               NaN  \n",
       "1     -15.0  145.0         993.0           NaN               NaN  \n",
       "2     -14.0  143.0         993.0           NaN               NaN  \n",
       "3     -13.5  142.0         993.0           NaN               NaN  \n",
       "4     -15.6  141.5         998.0           NaN               NaN  \n",
       "...     ...    ...           ...           ...               ...  \n",
       "28077 -30.5  114.6         991.0          15.4               NaN  \n",
       "28078 -31.3  115.1         992.0          15.4               NaN  \n",
       "28079 -32.6  115.8         993.0          15.4               NaN  \n",
       "28080 -34.0  115.9         993.0          15.4               NaN  \n",
       "28081 -35.5  116.2         993.0          15.4               NaN  \n",
       "\n",
       "[28082 rows x 11 columns]"
      ],
      "text/html": "<div>\n<style scoped>\n    .dataframe tbody tr th:only-of-type {\n        vertical-align: middle;\n    }\n\n    .dataframe tbody tr th {\n        vertical-align: top;\n    }\n\n    .dataframe thead th {\n        text-align: right;\n    }\n</style>\n<table border=\"1\" class=\"dataframe\">\n  <thead>\n    <tr style=\"text-align: right;\">\n      <th></th>\n      <th>NAME</th>\n      <th>TM</th>\n      <th>TYPE</th>\n      <th>DATA_SRC</th>\n      <th>SURFACE_CODE</th>\n      <th>CYC_TYPE</th>\n      <th>LAT</th>\n      <th>LON</th>\n      <th>CENTRAL_PRES</th>\n      <th>MAX_WIND_SPD</th>\n      <th>MAX_REP_WIND_DIR</th>\n    </tr>\n  </thead>\n  <tbody>\n    <tr>\n      <th>0</th>\n      <td>unnamed</td>\n      <td>1907-01-17 23:00:00</td>\n      <td>T</td>\n      <td>NaN</td>\n      <td>1.0</td>\n      <td>NaN</td>\n      <td>-13.0</td>\n      <td>146.5</td>\n      <td>994.0</td>\n      <td>NaN</td>\n      <td>NaN</td>\n    </tr>\n    <tr>\n      <th>1</th>\n      <td>unnamed</td>\n      <td>1907-01-18 23:00:00</td>\n      <td>T</td>\n      <td>NaN</td>\n      <td>3.0</td>\n      <td>NaN</td>\n      <td>-15.0</td>\n      <td>145.0</td>\n      <td>993.0</td>\n      <td>NaN</td>\n      <td>NaN</td>\n    </tr>\n    <tr>\n      <th>2</th>\n      <td>unnamed</td>\n      <td>1907-01-19 23:00:00</td>\n      <td>T</td>\n      <td>NaN</td>\n      <td>2.0</td>\n      <td>NaN</td>\n      <td>-14.0</td>\n      <td>143.0</td>\n      <td>993.0</td>\n      <td>NaN</td>\n      <td>NaN</td>\n    </tr>\n    <tr>\n      <th>3</th>\n      <td>unnamed</td>\n      <td>1907-01-20 23:00:00</td>\n      <td>T</td>\n      <td>NaN</td>\n      <td>2.0</td>\n      <td>NaN</td>\n      <td>-13.5</td>\n      <td>142.0</td>\n      <td>993.0</td>\n      <td>NaN</td>\n      <td>NaN</td>\n    </tr>\n    <tr>\n      <th>4</th>\n      <td>unnamed</td>\n      <td>1907-01-21 23:00:00</td>\n      <td>T</td>\n      <td>NaN</td>\n      <td>4.0</td>\n      <td>NaN</td>\n      <td>-15.6</td>\n      <td>141.5</td>\n      <td>998.0</td>\n      <td>NaN</td>\n      <td>NaN</td>\n    </tr>\n    <tr>\n      <th>...</th>\n      <td>...</td>\n      <td>...</td>\n      <td>...</td>\n      <td>...</td>\n      <td>...</td>\n      <td>...</td>\n      <td>...</td>\n      <td>...</td>\n      <td>...</td>\n      <td>...</td>\n      <td>...</td>\n    </tr>\n    <tr>\n      <th>28077</th>\n      <td>noname</td>\n      <td>2021-02-07 00:00:00</td>\n      <td>D</td>\n      <td>NaN</td>\n      <td>NaN</td>\n      <td>NaN</td>\n      <td>-30.5</td>\n      <td>114.6</td>\n      <td>991.0</td>\n      <td>15.4</td>\n      <td>NaN</td>\n    </tr>\n    <tr>\n      <th>28078</th>\n      <td>noname</td>\n      <td>2021-02-07 06:00:00</td>\n      <td>D</td>\n      <td>NaN</td>\n      <td>NaN</td>\n      <td>NaN</td>\n      <td>-31.3</td>\n      <td>115.1</td>\n      <td>992.0</td>\n      <td>15.4</td>\n      <td>NaN</td>\n    </tr>\n    <tr>\n      <th>28079</th>\n      <td>noname</td>\n      <td>2021-02-07 12:00:00</td>\n      <td>D</td>\n      <td>NaN</td>\n      <td>NaN</td>\n      <td>NaN</td>\n      <td>-32.6</td>\n      <td>115.8</td>\n      <td>993.0</td>\n      <td>15.4</td>\n      <td>NaN</td>\n    </tr>\n    <tr>\n      <th>28080</th>\n      <td>noname</td>\n      <td>2021-02-07 18:00:00</td>\n      <td>D</td>\n      <td>NaN</td>\n      <td>NaN</td>\n      <td>NaN</td>\n      <td>-34.0</td>\n      <td>115.9</td>\n      <td>993.0</td>\n      <td>15.4</td>\n      <td>NaN</td>\n    </tr>\n    <tr>\n      <th>28081</th>\n      <td>noname</td>\n      <td>2021-02-08 00:00:00</td>\n      <td>D</td>\n      <td>NaN</td>\n      <td>NaN</td>\n      <td>NaN</td>\n      <td>-35.5</td>\n      <td>116.2</td>\n      <td>993.0</td>\n      <td>15.4</td>\n      <td>NaN</td>\n    </tr>\n  </tbody>\n</table>\n<p>28082 rows × 11 columns</p>\n</div>"
     },
     "metadata": {},
     "execution_count": 34
    }
   ],
   "source": [
    "data_ml = data[[\"NAME\",\"TM\", \"TYPE\",\"DATA_SRC\", \"SURFACE_CODE\", \"CYC_TYPE\", \"LAT\",\"LON\",\"CENTRAL_PRES\",\n",
    "           \"MAX_WIND_SPD\",\"MAX_REP_WIND_DIR\"]]\n",
    "data_ml"
   ]
  },
  {
   "cell_type": "code",
   "execution_count": 35,
   "id": "working-complex",
   "metadata": {},
   "outputs": [
    {
     "output_type": "execute_result",
     "data": {
      "text/plain": [
       "NAME                    2\n",
       "TM                      2\n",
       "TYPE                    2\n",
       "DATA_SRC             8947\n",
       "SURFACE_CODE         2077\n",
       "CYC_TYPE             9719\n",
       "LAT                     2\n",
       "LON                     2\n",
       "CENTRAL_PRES         2621\n",
       "MAX_WIND_SPD         8474\n",
       "MAX_REP_WIND_DIR    23871\n",
       "dtype: int64"
      ]
     },
     "metadata": {},
     "execution_count": 35
    }
   ],
   "source": [
    "data_ml.isna().sum()"
   ]
  },
  {
   "cell_type": "code",
   "execution_count": 36,
   "id": "french-yellow",
   "metadata": {},
   "outputs": [
    {
     "output_type": "execute_result",
     "data": {
      "text/plain": [
       "(1691, 11)"
      ]
     },
     "metadata": {},
     "execution_count": 36
    }
   ],
   "source": [
    "data_ml = data_ml.dropna()\n",
    "data_ml.shape"
   ]
  },
  {
   "cell_type": "code",
   "execution_count": 37,
   "metadata": {},
   "outputs": [
    {
     "output_type": "execute_result",
     "data": {
      "text/plain": [
       "         NAME                  TM TYPE  DATA_SRC  SURFACE_CODE  CYC_TYPE  \\\n",
       "8141    Annie 1973-11-22 06:00:00    T       2.0           1.0      20.0   \n",
       "8143    Annie 1973-11-22 12:00:00    T       2.0           1.0      20.0   \n",
       "8147    Annie 1973-11-23 00:01:00    T       2.0           1.0      20.0   \n",
       "8149    Annie 1973-11-23 06:00:00    T       2.0           1.0      20.0   \n",
       "8151    Annie 1973-11-23 12:00:00    T       2.0           1.0      20.0   \n",
       "...       ...                 ...  ...       ...           ...       ...   \n",
       "22873  George 2007-03-04 18:00:00    T       3.0           2.0      30.0   \n",
       "24421  Carlos 2011-02-15 12:00:00    T       3.0           4.0      21.0   \n",
       "24426  Carlos 2011-02-15 21:00:00    T       3.0           2.0      30.0   \n",
       "24429  Carlos 2011-02-16 00:00:00    T       3.0           2.0      30.0   \n",
       "24438  Carlos 2011-02-16 09:00:00    T       3.0           2.0      30.0   \n",
       "\n",
       "         LAT     LON  CENTRAL_PRES  MAX_WIND_SPD  MAX_REP_WIND_DIR  \n",
       "8141  -11.00   92.60        1001.0          12.9             100.0  \n",
       "8143  -11.10   93.10        1002.0          12.9             110.0  \n",
       "8147  -11.10   94.20        1003.0          12.9             160.0  \n",
       "8149  -11.10   94.60        1000.0          12.9             210.0  \n",
       "8151  -11.20   95.00        1002.0          12.9             250.0  \n",
       "...      ...     ...           ...           ...               ...  \n",
       "22873 -14.30  126.40         986.0          20.6             270.0  \n",
       "24421 -12.73  130.61         999.0          20.6             350.0  \n",
       "24426 -12.54  130.72         993.0          18.0             210.0  \n",
       "24429 -12.41  130.99         995.0          18.0             210.0  \n",
       "24438 -12.54  130.98         994.0          20.6             220.0  \n",
       "\n",
       "[1691 rows x 11 columns]"
      ],
      "text/html": "<div>\n<style scoped>\n    .dataframe tbody tr th:only-of-type {\n        vertical-align: middle;\n    }\n\n    .dataframe tbody tr th {\n        vertical-align: top;\n    }\n\n    .dataframe thead th {\n        text-align: right;\n    }\n</style>\n<table border=\"1\" class=\"dataframe\">\n  <thead>\n    <tr style=\"text-align: right;\">\n      <th></th>\n      <th>NAME</th>\n      <th>TM</th>\n      <th>TYPE</th>\n      <th>DATA_SRC</th>\n      <th>SURFACE_CODE</th>\n      <th>CYC_TYPE</th>\n      <th>LAT</th>\n      <th>LON</th>\n      <th>CENTRAL_PRES</th>\n      <th>MAX_WIND_SPD</th>\n      <th>MAX_REP_WIND_DIR</th>\n    </tr>\n  </thead>\n  <tbody>\n    <tr>\n      <th>8141</th>\n      <td>Annie</td>\n      <td>1973-11-22 06:00:00</td>\n      <td>T</td>\n      <td>2.0</td>\n      <td>1.0</td>\n      <td>20.0</td>\n      <td>-11.00</td>\n      <td>92.60</td>\n      <td>1001.0</td>\n      <td>12.9</td>\n      <td>100.0</td>\n    </tr>\n    <tr>\n      <th>8143</th>\n      <td>Annie</td>\n      <td>1973-11-22 12:00:00</td>\n      <td>T</td>\n      <td>2.0</td>\n      <td>1.0</td>\n      <td>20.0</td>\n      <td>-11.10</td>\n      <td>93.10</td>\n      <td>1002.0</td>\n      <td>12.9</td>\n      <td>110.0</td>\n    </tr>\n    <tr>\n      <th>8147</th>\n      <td>Annie</td>\n      <td>1973-11-23 00:01:00</td>\n      <td>T</td>\n      <td>2.0</td>\n      <td>1.0</td>\n      <td>20.0</td>\n      <td>-11.10</td>\n      <td>94.20</td>\n      <td>1003.0</td>\n      <td>12.9</td>\n      <td>160.0</td>\n    </tr>\n    <tr>\n      <th>8149</th>\n      <td>Annie</td>\n      <td>1973-11-23 06:00:00</td>\n      <td>T</td>\n      <td>2.0</td>\n      <td>1.0</td>\n      <td>20.0</td>\n      <td>-11.10</td>\n      <td>94.60</td>\n      <td>1000.0</td>\n      <td>12.9</td>\n      <td>210.0</td>\n    </tr>\n    <tr>\n      <th>8151</th>\n      <td>Annie</td>\n      <td>1973-11-23 12:00:00</td>\n      <td>T</td>\n      <td>2.0</td>\n      <td>1.0</td>\n      <td>20.0</td>\n      <td>-11.20</td>\n      <td>95.00</td>\n      <td>1002.0</td>\n      <td>12.9</td>\n      <td>250.0</td>\n    </tr>\n    <tr>\n      <th>...</th>\n      <td>...</td>\n      <td>...</td>\n      <td>...</td>\n      <td>...</td>\n      <td>...</td>\n      <td>...</td>\n      <td>...</td>\n      <td>...</td>\n      <td>...</td>\n      <td>...</td>\n      <td>...</td>\n    </tr>\n    <tr>\n      <th>22873</th>\n      <td>George</td>\n      <td>2007-03-04 18:00:00</td>\n      <td>T</td>\n      <td>3.0</td>\n      <td>2.0</td>\n      <td>30.0</td>\n      <td>-14.30</td>\n      <td>126.40</td>\n      <td>986.0</td>\n      <td>20.6</td>\n      <td>270.0</td>\n    </tr>\n    <tr>\n      <th>24421</th>\n      <td>Carlos</td>\n      <td>2011-02-15 12:00:00</td>\n      <td>T</td>\n      <td>3.0</td>\n      <td>4.0</td>\n      <td>21.0</td>\n      <td>-12.73</td>\n      <td>130.61</td>\n      <td>999.0</td>\n      <td>20.6</td>\n      <td>350.0</td>\n    </tr>\n    <tr>\n      <th>24426</th>\n      <td>Carlos</td>\n      <td>2011-02-15 21:00:00</td>\n      <td>T</td>\n      <td>3.0</td>\n      <td>2.0</td>\n      <td>30.0</td>\n      <td>-12.54</td>\n      <td>130.72</td>\n      <td>993.0</td>\n      <td>18.0</td>\n      <td>210.0</td>\n    </tr>\n    <tr>\n      <th>24429</th>\n      <td>Carlos</td>\n      <td>2011-02-16 00:00:00</td>\n      <td>T</td>\n      <td>3.0</td>\n      <td>2.0</td>\n      <td>30.0</td>\n      <td>-12.41</td>\n      <td>130.99</td>\n      <td>995.0</td>\n      <td>18.0</td>\n      <td>210.0</td>\n    </tr>\n    <tr>\n      <th>24438</th>\n      <td>Carlos</td>\n      <td>2011-02-16 09:00:00</td>\n      <td>T</td>\n      <td>3.0</td>\n      <td>2.0</td>\n      <td>30.0</td>\n      <td>-12.54</td>\n      <td>130.98</td>\n      <td>994.0</td>\n      <td>20.6</td>\n      <td>220.0</td>\n    </tr>\n  </tbody>\n</table>\n<p>1691 rows × 11 columns</p>\n</div>"
     },
     "metadata": {},
     "execution_count": 37
    }
   ],
   "source": [
    "data_ml[\"NAME\"]=data_ml[\"NAME\"].apply(lambda x: x.strip().title())\n",
    "data_ml"
   ]
  },
  {
   "cell_type": "code",
   "execution_count": 38,
   "id": "forward-services",
   "metadata": {},
   "outputs": [
    {
     "output_type": "execute_result",
     "data": {
      "text/plain": [
       "         NAME                  TM TYPE  DATA_SRC  SURFACE_CODE  CYC_TYPE  \\\n",
       "22633   Larry 2006-03-19 18:00:00    T       4.0           1.0      40.0   \n",
       "22717  Hubert 2006-04-06 12:00:00    T       2.0           1.0      30.0   \n",
       "22719  Hubert 2006-04-07 00:00:00    T       2.0           1.0      30.0   \n",
       "22870  George 2007-03-04 00:00:00    T       3.0           1.0      30.0   \n",
       "22871  George 2007-03-04 06:00:00    T       3.0           3.0      30.0   \n",
       "22873  George 2007-03-04 18:00:00    T       3.0           2.0      30.0   \n",
       "24421  Carlos 2011-02-15 12:00:00    T       3.0           4.0      21.0   \n",
       "24426  Carlos 2011-02-15 21:00:00    T       3.0           2.0      30.0   \n",
       "24429  Carlos 2011-02-16 00:00:00    T       3.0           2.0      30.0   \n",
       "24438  Carlos 2011-02-16 09:00:00    T       3.0           2.0      30.0   \n",
       "\n",
       "         LAT     LON  CENTRAL_PRES  MAX_WIND_SPD  MAX_REP_WIND_DIR  \\\n",
       "22633 -17.50  146.80         935.0          51.4             190.0   \n",
       "22717 -18.80  115.30         980.0          25.7             110.0   \n",
       "22719 -20.00  114.90         980.0          25.7              70.0   \n",
       "22870 -14.60  128.50         982.0          25.7             240.0   \n",
       "22871 -14.40  127.90         986.0          20.6             270.0   \n",
       "22873 -14.30  126.40         986.0          20.6             270.0   \n",
       "24421 -12.73  130.61         999.0          20.6             350.0   \n",
       "24426 -12.54  130.72         993.0          18.0             210.0   \n",
       "24429 -12.41  130.99         995.0          18.0             210.0   \n",
       "24438 -12.54  130.98         994.0          20.6             220.0   \n",
       "\n",
       "      WIND_COMPASS  \n",
       "22633            S  \n",
       "22717            E  \n",
       "22719            E  \n",
       "22870           SW  \n",
       "22871            W  \n",
       "22873            W  \n",
       "24421            N  \n",
       "24426           SW  \n",
       "24429           SW  \n",
       "24438           SW  "
      ],
      "text/html": "<div>\n<style scoped>\n    .dataframe tbody tr th:only-of-type {\n        vertical-align: middle;\n    }\n\n    .dataframe tbody tr th {\n        vertical-align: top;\n    }\n\n    .dataframe thead th {\n        text-align: right;\n    }\n</style>\n<table border=\"1\" class=\"dataframe\">\n  <thead>\n    <tr style=\"text-align: right;\">\n      <th></th>\n      <th>NAME</th>\n      <th>TM</th>\n      <th>TYPE</th>\n      <th>DATA_SRC</th>\n      <th>SURFACE_CODE</th>\n      <th>CYC_TYPE</th>\n      <th>LAT</th>\n      <th>LON</th>\n      <th>CENTRAL_PRES</th>\n      <th>MAX_WIND_SPD</th>\n      <th>MAX_REP_WIND_DIR</th>\n      <th>WIND_COMPASS</th>\n    </tr>\n  </thead>\n  <tbody>\n    <tr>\n      <th>22633</th>\n      <td>Larry</td>\n      <td>2006-03-19 18:00:00</td>\n      <td>T</td>\n      <td>4.0</td>\n      <td>1.0</td>\n      <td>40.0</td>\n      <td>-17.50</td>\n      <td>146.80</td>\n      <td>935.0</td>\n      <td>51.4</td>\n      <td>190.0</td>\n      <td>S</td>\n    </tr>\n    <tr>\n      <th>22717</th>\n      <td>Hubert</td>\n      <td>2006-04-06 12:00:00</td>\n      <td>T</td>\n      <td>2.0</td>\n      <td>1.0</td>\n      <td>30.0</td>\n      <td>-18.80</td>\n      <td>115.30</td>\n      <td>980.0</td>\n      <td>25.7</td>\n      <td>110.0</td>\n      <td>E</td>\n    </tr>\n    <tr>\n      <th>22719</th>\n      <td>Hubert</td>\n      <td>2006-04-07 00:00:00</td>\n      <td>T</td>\n      <td>2.0</td>\n      <td>1.0</td>\n      <td>30.0</td>\n      <td>-20.00</td>\n      <td>114.90</td>\n      <td>980.0</td>\n      <td>25.7</td>\n      <td>70.0</td>\n      <td>E</td>\n    </tr>\n    <tr>\n      <th>22870</th>\n      <td>George</td>\n      <td>2007-03-04 00:00:00</td>\n      <td>T</td>\n      <td>3.0</td>\n      <td>1.0</td>\n      <td>30.0</td>\n      <td>-14.60</td>\n      <td>128.50</td>\n      <td>982.0</td>\n      <td>25.7</td>\n      <td>240.0</td>\n      <td>SW</td>\n    </tr>\n    <tr>\n      <th>22871</th>\n      <td>George</td>\n      <td>2007-03-04 06:00:00</td>\n      <td>T</td>\n      <td>3.0</td>\n      <td>3.0</td>\n      <td>30.0</td>\n      <td>-14.40</td>\n      <td>127.90</td>\n      <td>986.0</td>\n      <td>20.6</td>\n      <td>270.0</td>\n      <td>W</td>\n    </tr>\n    <tr>\n      <th>22873</th>\n      <td>George</td>\n      <td>2007-03-04 18:00:00</td>\n      <td>T</td>\n      <td>3.0</td>\n      <td>2.0</td>\n      <td>30.0</td>\n      <td>-14.30</td>\n      <td>126.40</td>\n      <td>986.0</td>\n      <td>20.6</td>\n      <td>270.0</td>\n      <td>W</td>\n    </tr>\n    <tr>\n      <th>24421</th>\n      <td>Carlos</td>\n      <td>2011-02-15 12:00:00</td>\n      <td>T</td>\n      <td>3.0</td>\n      <td>4.0</td>\n      <td>21.0</td>\n      <td>-12.73</td>\n      <td>130.61</td>\n      <td>999.0</td>\n      <td>20.6</td>\n      <td>350.0</td>\n      <td>N</td>\n    </tr>\n    <tr>\n      <th>24426</th>\n      <td>Carlos</td>\n      <td>2011-02-15 21:00:00</td>\n      <td>T</td>\n      <td>3.0</td>\n      <td>2.0</td>\n      <td>30.0</td>\n      <td>-12.54</td>\n      <td>130.72</td>\n      <td>993.0</td>\n      <td>18.0</td>\n      <td>210.0</td>\n      <td>SW</td>\n    </tr>\n    <tr>\n      <th>24429</th>\n      <td>Carlos</td>\n      <td>2011-02-16 00:00:00</td>\n      <td>T</td>\n      <td>3.0</td>\n      <td>2.0</td>\n      <td>30.0</td>\n      <td>-12.41</td>\n      <td>130.99</td>\n      <td>995.0</td>\n      <td>18.0</td>\n      <td>210.0</td>\n      <td>SW</td>\n    </tr>\n    <tr>\n      <th>24438</th>\n      <td>Carlos</td>\n      <td>2011-02-16 09:00:00</td>\n      <td>T</td>\n      <td>3.0</td>\n      <td>2.0</td>\n      <td>30.0</td>\n      <td>-12.54</td>\n      <td>130.98</td>\n      <td>994.0</td>\n      <td>20.6</td>\n      <td>220.0</td>\n      <td>SW</td>\n    </tr>\n  </tbody>\n</table>\n</div>"
     },
     "metadata": {},
     "execution_count": 38
    }
   ],
   "source": [
    "#Group wind direction in to compass directions\n",
    "\n",
    "data_ml[\"WIND_COMPASS\"] = data_ml[\"MAX_REP_WIND_DIR\"].apply(\n",
    "    lambda x :'N' if (x >= 0 and x < 22.5) else (\n",
    "            'NE' if (x >= 22.5 and x < 67.5) else (\n",
    "            'E' if (x >= 67.5 and x < 112.5) else (\n",
    "            'SE' if (x >= 112.5 and x < 157.5) else (\n",
    "            'S' if (x >= 157.5 and x < 202.5) else (\n",
    "            'SW' if (x >= 202.5 and x < 247.5) else (\n",
    "            'W' if (x >= 247.5 and x < 292.5) else (\n",
    "            'NW' if (x >= 292.5 and x < 337.5) else 'N'))))))))\n",
    "\n",
    "data_ml.tail(10)                                                    "
   ]
  },
  {
   "cell_type": "code",
   "execution_count": 39,
   "metadata": {},
   "outputs": [
    {
     "output_type": "execute_result",
     "data": {
      "text/plain": [
       "         NAME                  TM TYPE  DATA_SRC  SURFACE_CODE  CYC_TYPE  \\\n",
       "8141    Annie 1973-11-22 06:00:00    T       2.0           1.0      20.0   \n",
       "8143    Annie 1973-11-22 12:00:00    T       2.0           1.0      20.0   \n",
       "8147    Annie 1973-11-23 00:01:00    T       2.0           1.0      20.0   \n",
       "8149    Annie 1973-11-23 06:00:00    T       2.0           1.0      20.0   \n",
       "8151    Annie 1973-11-23 12:00:00    T       2.0           1.0      20.0   \n",
       "...       ...                 ...  ...       ...           ...       ...   \n",
       "22873  George 2007-03-04 18:00:00    T       3.0           2.0      30.0   \n",
       "24421  Carlos 2011-02-15 12:00:00    T       3.0           4.0      21.0   \n",
       "24426  Carlos 2011-02-15 21:00:00    T       3.0           2.0      30.0   \n",
       "24429  Carlos 2011-02-16 00:00:00    T       3.0           2.0      30.0   \n",
       "24438  Carlos 2011-02-16 09:00:00    T       3.0           2.0      30.0   \n",
       "\n",
       "         LAT     LON  CENTRAL_PRES  MAX_WIND_SPD  MAX_REP_WIND_DIR  \\\n",
       "8141  -11.00   92.60        1001.0          12.9             100.0   \n",
       "8143  -11.10   93.10        1002.0          12.9             110.0   \n",
       "8147  -11.10   94.20        1003.0          12.9             160.0   \n",
       "8149  -11.10   94.60        1000.0          12.9             210.0   \n",
       "8151  -11.20   95.00        1002.0          12.9             250.0   \n",
       "...      ...     ...           ...           ...               ...   \n",
       "22873 -14.30  126.40         986.0          20.6             270.0   \n",
       "24421 -12.73  130.61         999.0          20.6             350.0   \n",
       "24426 -12.54  130.72         993.0          18.0             210.0   \n",
       "24429 -12.41  130.99         995.0          18.0             210.0   \n",
       "24438 -12.54  130.98         994.0          20.6             220.0   \n",
       "\n",
       "      WIND_COMPASS        V60  CENTRAL_INDEX (CI)  WAVE_HEIGHT  \n",
       "8141             E  14.202058            2.064005     3.337484  \n",
       "8143             E  13.164642            1.950454     3.093691  \n",
       "8147             S  12.079869            1.829259     2.838769  \n",
       "8149            SW  15.199143            2.171169     3.571799  \n",
       "8151             W  13.164642            1.950454     3.093691  \n",
       "...            ...        ...                 ...          ...  \n",
       "22873            W  26.710077            3.306407     6.276868  \n",
       "24421            N  16.161289            2.272897     3.797903  \n",
       "24426           SW  21.390858            2.801605     5.026852  \n",
       "24429           SW  19.734306            2.638106     4.637562  \n",
       "24438           SW  20.571803            2.721184     4.834374  \n",
       "\n",
       "[1691 rows x 15 columns]"
      ],
      "text/html": "<div>\n<style scoped>\n    .dataframe tbody tr th:only-of-type {\n        vertical-align: middle;\n    }\n\n    .dataframe tbody tr th {\n        vertical-align: top;\n    }\n\n    .dataframe thead th {\n        text-align: right;\n    }\n</style>\n<table border=\"1\" class=\"dataframe\">\n  <thead>\n    <tr style=\"text-align: right;\">\n      <th></th>\n      <th>NAME</th>\n      <th>TM</th>\n      <th>TYPE</th>\n      <th>DATA_SRC</th>\n      <th>SURFACE_CODE</th>\n      <th>CYC_TYPE</th>\n      <th>LAT</th>\n      <th>LON</th>\n      <th>CENTRAL_PRES</th>\n      <th>MAX_WIND_SPD</th>\n      <th>MAX_REP_WIND_DIR</th>\n      <th>WIND_COMPASS</th>\n      <th>V60</th>\n      <th>CENTRAL_INDEX (CI)</th>\n      <th>WAVE_HEIGHT</th>\n    </tr>\n  </thead>\n  <tbody>\n    <tr>\n      <th>8141</th>\n      <td>Annie</td>\n      <td>1973-11-22 06:00:00</td>\n      <td>T</td>\n      <td>2.0</td>\n      <td>1.0</td>\n      <td>20.0</td>\n      <td>-11.00</td>\n      <td>92.60</td>\n      <td>1001.0</td>\n      <td>12.9</td>\n      <td>100.0</td>\n      <td>E</td>\n      <td>14.202058</td>\n      <td>2.064005</td>\n      <td>3.337484</td>\n    </tr>\n    <tr>\n      <th>8143</th>\n      <td>Annie</td>\n      <td>1973-11-22 12:00:00</td>\n      <td>T</td>\n      <td>2.0</td>\n      <td>1.0</td>\n      <td>20.0</td>\n      <td>-11.10</td>\n      <td>93.10</td>\n      <td>1002.0</td>\n      <td>12.9</td>\n      <td>110.0</td>\n      <td>E</td>\n      <td>13.164642</td>\n      <td>1.950454</td>\n      <td>3.093691</td>\n    </tr>\n    <tr>\n      <th>8147</th>\n      <td>Annie</td>\n      <td>1973-11-23 00:01:00</td>\n      <td>T</td>\n      <td>2.0</td>\n      <td>1.0</td>\n      <td>20.0</td>\n      <td>-11.10</td>\n      <td>94.20</td>\n      <td>1003.0</td>\n      <td>12.9</td>\n      <td>160.0</td>\n      <td>S</td>\n      <td>12.079869</td>\n      <td>1.829259</td>\n      <td>2.838769</td>\n    </tr>\n    <tr>\n      <th>8149</th>\n      <td>Annie</td>\n      <td>1973-11-23 06:00:00</td>\n      <td>T</td>\n      <td>2.0</td>\n      <td>1.0</td>\n      <td>20.0</td>\n      <td>-11.10</td>\n      <td>94.60</td>\n      <td>1000.0</td>\n      <td>12.9</td>\n      <td>210.0</td>\n      <td>SW</td>\n      <td>15.199143</td>\n      <td>2.171169</td>\n      <td>3.571799</td>\n    </tr>\n    <tr>\n      <th>8151</th>\n      <td>Annie</td>\n      <td>1973-11-23 12:00:00</td>\n      <td>T</td>\n      <td>2.0</td>\n      <td>1.0</td>\n      <td>20.0</td>\n      <td>-11.20</td>\n      <td>95.00</td>\n      <td>1002.0</td>\n      <td>12.9</td>\n      <td>250.0</td>\n      <td>W</td>\n      <td>13.164642</td>\n      <td>1.950454</td>\n      <td>3.093691</td>\n    </tr>\n    <tr>\n      <th>...</th>\n      <td>...</td>\n      <td>...</td>\n      <td>...</td>\n      <td>...</td>\n      <td>...</td>\n      <td>...</td>\n      <td>...</td>\n      <td>...</td>\n      <td>...</td>\n      <td>...</td>\n      <td>...</td>\n      <td>...</td>\n      <td>...</td>\n      <td>...</td>\n      <td>...</td>\n    </tr>\n    <tr>\n      <th>22873</th>\n      <td>George</td>\n      <td>2007-03-04 18:00:00</td>\n      <td>T</td>\n      <td>3.0</td>\n      <td>2.0</td>\n      <td>30.0</td>\n      <td>-14.30</td>\n      <td>126.40</td>\n      <td>986.0</td>\n      <td>20.6</td>\n      <td>270.0</td>\n      <td>W</td>\n      <td>26.710077</td>\n      <td>3.306407</td>\n      <td>6.276868</td>\n    </tr>\n    <tr>\n      <th>24421</th>\n      <td>Carlos</td>\n      <td>2011-02-15 12:00:00</td>\n      <td>T</td>\n      <td>3.0</td>\n      <td>4.0</td>\n      <td>21.0</td>\n      <td>-12.73</td>\n      <td>130.61</td>\n      <td>999.0</td>\n      <td>20.6</td>\n      <td>350.0</td>\n      <td>N</td>\n      <td>16.161289</td>\n      <td>2.272897</td>\n      <td>3.797903</td>\n    </tr>\n    <tr>\n      <th>24426</th>\n      <td>Carlos</td>\n      <td>2011-02-15 21:00:00</td>\n      <td>T</td>\n      <td>3.0</td>\n      <td>2.0</td>\n      <td>30.0</td>\n      <td>-12.54</td>\n      <td>130.72</td>\n      <td>993.0</td>\n      <td>18.0</td>\n      <td>210.0</td>\n      <td>SW</td>\n      <td>21.390858</td>\n      <td>2.801605</td>\n      <td>5.026852</td>\n    </tr>\n    <tr>\n      <th>24429</th>\n      <td>Carlos</td>\n      <td>2011-02-16 00:00:00</td>\n      <td>T</td>\n      <td>3.0</td>\n      <td>2.0</td>\n      <td>30.0</td>\n      <td>-12.41</td>\n      <td>130.99</td>\n      <td>995.0</td>\n      <td>18.0</td>\n      <td>210.0</td>\n      <td>SW</td>\n      <td>19.734306</td>\n      <td>2.638106</td>\n      <td>4.637562</td>\n    </tr>\n    <tr>\n      <th>24438</th>\n      <td>Carlos</td>\n      <td>2011-02-16 09:00:00</td>\n      <td>T</td>\n      <td>3.0</td>\n      <td>2.0</td>\n      <td>30.0</td>\n      <td>-12.54</td>\n      <td>130.98</td>\n      <td>994.0</td>\n      <td>20.6</td>\n      <td>220.0</td>\n      <td>SW</td>\n      <td>20.571803</td>\n      <td>2.721184</td>\n      <td>4.834374</td>\n    </tr>\n  </tbody>\n</table>\n<p>1691 rows × 15 columns</p>\n</div>"
     },
     "metadata": {},
     "execution_count": 39
    }
   ],
   "source": [
    "data_ml[\"V60\"] = 3.45*(1010 - (data_ml.CENTRAL_PRES))**0.644\n",
    "data_ml[\"CENTRAL_INDEX (CI)\"] = (0.186*data_ml.V60)**0.746\n",
    "data_ml[\"WAVE_HEIGHT\"] = (0.235*data_ml.V60)\n",
    "data_ml"
   ]
  },
  {
   "cell_type": "code",
   "execution_count": 42,
   "metadata": {},
   "outputs": [
    {
     "output_type": "execute_result",
     "data": {
      "text/plain": [
       "         NAME                  TM TYPE  DATA_SRC  SURFACE_CODE  CYC_TYPE  \\\n",
       "8141    Annie 1973-11-22 06:00:00    T       2.0           1.0      20.0   \n",
       "8143    Annie 1973-11-22 12:00:00    T       2.0           1.0      20.0   \n",
       "8147    Annie 1973-11-23 00:01:00    T       2.0           1.0      20.0   \n",
       "8149    Annie 1973-11-23 06:00:00    T       2.0           1.0      20.0   \n",
       "8151    Annie 1973-11-23 12:00:00    T       2.0           1.0      20.0   \n",
       "...       ...                 ...  ...       ...           ...       ...   \n",
       "22873  George 2007-03-04 18:00:00    T       3.0           2.0      30.0   \n",
       "24421  Carlos 2011-02-15 12:00:00    T       3.0           4.0      21.0   \n",
       "24426  Carlos 2011-02-15 21:00:00    T       3.0           2.0      30.0   \n",
       "24429  Carlos 2011-02-16 00:00:00    T       3.0           2.0      30.0   \n",
       "24438  Carlos 2011-02-16 09:00:00    T       3.0           2.0      30.0   \n",
       "\n",
       "         LAT     LON  CENTRAL_PRES  MAX_WIND_SPD  MAX_REP_WIND_DIR  \\\n",
       "8141  -11.00   92.60        1001.0          12.9             100.0   \n",
       "8143  -11.10   93.10        1002.0          12.9             110.0   \n",
       "8147  -11.10   94.20        1003.0          12.9             160.0   \n",
       "8149  -11.10   94.60        1000.0          12.9             210.0   \n",
       "8151  -11.20   95.00        1002.0          12.9             250.0   \n",
       "...      ...     ...           ...           ...               ...   \n",
       "22873 -14.30  126.40         986.0          20.6             270.0   \n",
       "24421 -12.73  130.61         999.0          20.6             350.0   \n",
       "24426 -12.54  130.72         993.0          18.0             210.0   \n",
       "24429 -12.41  130.99         995.0          18.0             210.0   \n",
       "24438 -12.54  130.98         994.0          20.6             220.0   \n",
       "\n",
       "      WIND_COMPASS  CENTRAL_INDEX (CI)  WAVE_HEIGHT  \n",
       "8141             E            2.064005     3.337484  \n",
       "8143             E            1.950454     3.093691  \n",
       "8147             S            1.829259     2.838769  \n",
       "8149            SW            2.171169     3.571799  \n",
       "8151             W            1.950454     3.093691  \n",
       "...            ...                 ...          ...  \n",
       "22873            W            3.306407     6.276868  \n",
       "24421            N            2.272897     3.797903  \n",
       "24426           SW            2.801605     5.026852  \n",
       "24429           SW            2.638106     4.637562  \n",
       "24438           SW            2.721184     4.834374  \n",
       "\n",
       "[1691 rows x 14 columns]"
      ],
      "text/html": "<div>\n<style scoped>\n    .dataframe tbody tr th:only-of-type {\n        vertical-align: middle;\n    }\n\n    .dataframe tbody tr th {\n        vertical-align: top;\n    }\n\n    .dataframe thead th {\n        text-align: right;\n    }\n</style>\n<table border=\"1\" class=\"dataframe\">\n  <thead>\n    <tr style=\"text-align: right;\">\n      <th></th>\n      <th>NAME</th>\n      <th>TM</th>\n      <th>TYPE</th>\n      <th>DATA_SRC</th>\n      <th>SURFACE_CODE</th>\n      <th>CYC_TYPE</th>\n      <th>LAT</th>\n      <th>LON</th>\n      <th>CENTRAL_PRES</th>\n      <th>MAX_WIND_SPD</th>\n      <th>MAX_REP_WIND_DIR</th>\n      <th>WIND_COMPASS</th>\n      <th>CENTRAL_INDEX (CI)</th>\n      <th>WAVE_HEIGHT</th>\n    </tr>\n  </thead>\n  <tbody>\n    <tr>\n      <th>8141</th>\n      <td>Annie</td>\n      <td>1973-11-22 06:00:00</td>\n      <td>T</td>\n      <td>2.0</td>\n      <td>1.0</td>\n      <td>20.0</td>\n      <td>-11.00</td>\n      <td>92.60</td>\n      <td>1001.0</td>\n      <td>12.9</td>\n      <td>100.0</td>\n      <td>E</td>\n      <td>2.064005</td>\n      <td>3.337484</td>\n    </tr>\n    <tr>\n      <th>8143</th>\n      <td>Annie</td>\n      <td>1973-11-22 12:00:00</td>\n      <td>T</td>\n      <td>2.0</td>\n      <td>1.0</td>\n      <td>20.0</td>\n      <td>-11.10</td>\n      <td>93.10</td>\n      <td>1002.0</td>\n      <td>12.9</td>\n      <td>110.0</td>\n      <td>E</td>\n      <td>1.950454</td>\n      <td>3.093691</td>\n    </tr>\n    <tr>\n      <th>8147</th>\n      <td>Annie</td>\n      <td>1973-11-23 00:01:00</td>\n      <td>T</td>\n      <td>2.0</td>\n      <td>1.0</td>\n      <td>20.0</td>\n      <td>-11.10</td>\n      <td>94.20</td>\n      <td>1003.0</td>\n      <td>12.9</td>\n      <td>160.0</td>\n      <td>S</td>\n      <td>1.829259</td>\n      <td>2.838769</td>\n    </tr>\n    <tr>\n      <th>8149</th>\n      <td>Annie</td>\n      <td>1973-11-23 06:00:00</td>\n      <td>T</td>\n      <td>2.0</td>\n      <td>1.0</td>\n      <td>20.0</td>\n      <td>-11.10</td>\n      <td>94.60</td>\n      <td>1000.0</td>\n      <td>12.9</td>\n      <td>210.0</td>\n      <td>SW</td>\n      <td>2.171169</td>\n      <td>3.571799</td>\n    </tr>\n    <tr>\n      <th>8151</th>\n      <td>Annie</td>\n      <td>1973-11-23 12:00:00</td>\n      <td>T</td>\n      <td>2.0</td>\n      <td>1.0</td>\n      <td>20.0</td>\n      <td>-11.20</td>\n      <td>95.00</td>\n      <td>1002.0</td>\n      <td>12.9</td>\n      <td>250.0</td>\n      <td>W</td>\n      <td>1.950454</td>\n      <td>3.093691</td>\n    </tr>\n    <tr>\n      <th>...</th>\n      <td>...</td>\n      <td>...</td>\n      <td>...</td>\n      <td>...</td>\n      <td>...</td>\n      <td>...</td>\n      <td>...</td>\n      <td>...</td>\n      <td>...</td>\n      <td>...</td>\n      <td>...</td>\n      <td>...</td>\n      <td>...</td>\n      <td>...</td>\n    </tr>\n    <tr>\n      <th>22873</th>\n      <td>George</td>\n      <td>2007-03-04 18:00:00</td>\n      <td>T</td>\n      <td>3.0</td>\n      <td>2.0</td>\n      <td>30.0</td>\n      <td>-14.30</td>\n      <td>126.40</td>\n      <td>986.0</td>\n      <td>20.6</td>\n      <td>270.0</td>\n      <td>W</td>\n      <td>3.306407</td>\n      <td>6.276868</td>\n    </tr>\n    <tr>\n      <th>24421</th>\n      <td>Carlos</td>\n      <td>2011-02-15 12:00:00</td>\n      <td>T</td>\n      <td>3.0</td>\n      <td>4.0</td>\n      <td>21.0</td>\n      <td>-12.73</td>\n      <td>130.61</td>\n      <td>999.0</td>\n      <td>20.6</td>\n      <td>350.0</td>\n      <td>N</td>\n      <td>2.272897</td>\n      <td>3.797903</td>\n    </tr>\n    <tr>\n      <th>24426</th>\n      <td>Carlos</td>\n      <td>2011-02-15 21:00:00</td>\n      <td>T</td>\n      <td>3.0</td>\n      <td>2.0</td>\n      <td>30.0</td>\n      <td>-12.54</td>\n      <td>130.72</td>\n      <td>993.0</td>\n      <td>18.0</td>\n      <td>210.0</td>\n      <td>SW</td>\n      <td>2.801605</td>\n      <td>5.026852</td>\n    </tr>\n    <tr>\n      <th>24429</th>\n      <td>Carlos</td>\n      <td>2011-02-16 00:00:00</td>\n      <td>T</td>\n      <td>3.0</td>\n      <td>2.0</td>\n      <td>30.0</td>\n      <td>-12.41</td>\n      <td>130.99</td>\n      <td>995.0</td>\n      <td>18.0</td>\n      <td>210.0</td>\n      <td>SW</td>\n      <td>2.638106</td>\n      <td>4.637562</td>\n    </tr>\n    <tr>\n      <th>24438</th>\n      <td>Carlos</td>\n      <td>2011-02-16 09:00:00</td>\n      <td>T</td>\n      <td>3.0</td>\n      <td>2.0</td>\n      <td>30.0</td>\n      <td>-12.54</td>\n      <td>130.98</td>\n      <td>994.0</td>\n      <td>20.6</td>\n      <td>220.0</td>\n      <td>SW</td>\n      <td>2.721184</td>\n      <td>4.834374</td>\n    </tr>\n  </tbody>\n</table>\n<p>1691 rows × 14 columns</p>\n</div>"
     },
     "metadata": {},
     "execution_count": 42
    }
   ],
   "source": [
    "data_ml.drop(columns=[\"V60\"], inplace=True)\n",
    "data_ml"
   ]
  },
  {
   "cell_type": "code",
   "execution_count": 43,
   "id": "worthy-newspaper",
   "metadata": {},
   "outputs": [],
   "source": [
    "# Export data for ML Model\n",
    "data_ml.to_csv(\"data/Cyclone_ML.csv\", sep= \",\",header=True, index=False)"
   ]
  },
  {
   "cell_type": "code",
   "execution_count": 44,
   "metadata": {},
   "outputs": [
    {
     "output_type": "execute_result",
     "data": {
      "text/plain": [
       "         NAME                  TM TYPE  DATA_SRC  SURFACE_CODE  CYC_TYPE  \\\n",
       "8141    Annie 1973-11-22 06:00:00    T       2.0           1.0      20.0   \n",
       "8143    Annie 1973-11-22 12:00:00    T       2.0           1.0      20.0   \n",
       "8147    Annie 1973-11-23 00:01:00    T       2.0           1.0      20.0   \n",
       "8149    Annie 1973-11-23 06:00:00    T       2.0           1.0      20.0   \n",
       "8151    Annie 1973-11-23 12:00:00    T       2.0           1.0      20.0   \n",
       "...       ...                 ...  ...       ...           ...       ...   \n",
       "22873  George 2007-03-04 18:00:00    T       3.0           2.0      30.0   \n",
       "24421  Carlos 2011-02-15 12:00:00    T       3.0           4.0      21.0   \n",
       "24426  Carlos 2011-02-15 21:00:00    T       3.0           2.0      30.0   \n",
       "24429  Carlos 2011-02-16 00:00:00    T       3.0           2.0      30.0   \n",
       "24438  Carlos 2011-02-16 09:00:00    T       3.0           2.0      30.0   \n",
       "\n",
       "         LAT     LON  CENTRAL_PRES  MAX_WIND_SPD  MAX_REP_WIND_DIR  \\\n",
       "8141  -11.00   92.60        1001.0          12.9             100.0   \n",
       "8143  -11.10   93.10        1002.0          12.9             110.0   \n",
       "8147  -11.10   94.20        1003.0          12.9             160.0   \n",
       "8149  -11.10   94.60        1000.0          12.9             210.0   \n",
       "8151  -11.20   95.00        1002.0          12.9             250.0   \n",
       "...      ...     ...           ...           ...               ...   \n",
       "22873 -14.30  126.40         986.0          20.6             270.0   \n",
       "24421 -12.73  130.61         999.0          20.6             350.0   \n",
       "24426 -12.54  130.72         993.0          18.0             210.0   \n",
       "24429 -12.41  130.99         995.0          18.0             210.0   \n",
       "24438 -12.54  130.98         994.0          20.6             220.0   \n",
       "\n",
       "      WIND_COMPASS  CENTRAL_INDEX (CI)  WAVE_HEIGHT  \n",
       "8141             E            2.064005     3.337484  \n",
       "8143             E            1.950454     3.093691  \n",
       "8147             S            1.829259     2.838769  \n",
       "8149            SW            2.171169     3.571799  \n",
       "8151             W            1.950454     3.093691  \n",
       "...            ...                 ...          ...  \n",
       "22873            W            3.306407     6.276868  \n",
       "24421            N            2.272897     3.797903  \n",
       "24426           SW            2.801605     5.026852  \n",
       "24429           SW            2.638106     4.637562  \n",
       "24438           SW            2.721184     4.834374  \n",
       "\n",
       "[1691 rows x 14 columns]"
      ],
      "text/html": "<div>\n<style scoped>\n    .dataframe tbody tr th:only-of-type {\n        vertical-align: middle;\n    }\n\n    .dataframe tbody tr th {\n        vertical-align: top;\n    }\n\n    .dataframe thead th {\n        text-align: right;\n    }\n</style>\n<table border=\"1\" class=\"dataframe\">\n  <thead>\n    <tr style=\"text-align: right;\">\n      <th></th>\n      <th>NAME</th>\n      <th>TM</th>\n      <th>TYPE</th>\n      <th>DATA_SRC</th>\n      <th>SURFACE_CODE</th>\n      <th>CYC_TYPE</th>\n      <th>LAT</th>\n      <th>LON</th>\n      <th>CENTRAL_PRES</th>\n      <th>MAX_WIND_SPD</th>\n      <th>MAX_REP_WIND_DIR</th>\n      <th>WIND_COMPASS</th>\n      <th>CENTRAL_INDEX (CI)</th>\n      <th>WAVE_HEIGHT</th>\n    </tr>\n  </thead>\n  <tbody>\n    <tr>\n      <th>8141</th>\n      <td>Annie</td>\n      <td>1973-11-22 06:00:00</td>\n      <td>T</td>\n      <td>2.0</td>\n      <td>1.0</td>\n      <td>20.0</td>\n      <td>-11.00</td>\n      <td>92.60</td>\n      <td>1001.0</td>\n      <td>12.9</td>\n      <td>100.0</td>\n      <td>E</td>\n      <td>2.064005</td>\n      <td>3.337484</td>\n    </tr>\n    <tr>\n      <th>8143</th>\n      <td>Annie</td>\n      <td>1973-11-22 12:00:00</td>\n      <td>T</td>\n      <td>2.0</td>\n      <td>1.0</td>\n      <td>20.0</td>\n      <td>-11.10</td>\n      <td>93.10</td>\n      <td>1002.0</td>\n      <td>12.9</td>\n      <td>110.0</td>\n      <td>E</td>\n      <td>1.950454</td>\n      <td>3.093691</td>\n    </tr>\n    <tr>\n      <th>8147</th>\n      <td>Annie</td>\n      <td>1973-11-23 00:01:00</td>\n      <td>T</td>\n      <td>2.0</td>\n      <td>1.0</td>\n      <td>20.0</td>\n      <td>-11.10</td>\n      <td>94.20</td>\n      <td>1003.0</td>\n      <td>12.9</td>\n      <td>160.0</td>\n      <td>S</td>\n      <td>1.829259</td>\n      <td>2.838769</td>\n    </tr>\n    <tr>\n      <th>8149</th>\n      <td>Annie</td>\n      <td>1973-11-23 06:00:00</td>\n      <td>T</td>\n      <td>2.0</td>\n      <td>1.0</td>\n      <td>20.0</td>\n      <td>-11.10</td>\n      <td>94.60</td>\n      <td>1000.0</td>\n      <td>12.9</td>\n      <td>210.0</td>\n      <td>SW</td>\n      <td>2.171169</td>\n      <td>3.571799</td>\n    </tr>\n    <tr>\n      <th>8151</th>\n      <td>Annie</td>\n      <td>1973-11-23 12:00:00</td>\n      <td>T</td>\n      <td>2.0</td>\n      <td>1.0</td>\n      <td>20.0</td>\n      <td>-11.20</td>\n      <td>95.00</td>\n      <td>1002.0</td>\n      <td>12.9</td>\n      <td>250.0</td>\n      <td>W</td>\n      <td>1.950454</td>\n      <td>3.093691</td>\n    </tr>\n    <tr>\n      <th>...</th>\n      <td>...</td>\n      <td>...</td>\n      <td>...</td>\n      <td>...</td>\n      <td>...</td>\n      <td>...</td>\n      <td>...</td>\n      <td>...</td>\n      <td>...</td>\n      <td>...</td>\n      <td>...</td>\n      <td>...</td>\n      <td>...</td>\n      <td>...</td>\n    </tr>\n    <tr>\n      <th>22873</th>\n      <td>George</td>\n      <td>2007-03-04 18:00:00</td>\n      <td>T</td>\n      <td>3.0</td>\n      <td>2.0</td>\n      <td>30.0</td>\n      <td>-14.30</td>\n      <td>126.40</td>\n      <td>986.0</td>\n      <td>20.6</td>\n      <td>270.0</td>\n      <td>W</td>\n      <td>3.306407</td>\n      <td>6.276868</td>\n    </tr>\n    <tr>\n      <th>24421</th>\n      <td>Carlos</td>\n      <td>2011-02-15 12:00:00</td>\n      <td>T</td>\n      <td>3.0</td>\n      <td>4.0</td>\n      <td>21.0</td>\n      <td>-12.73</td>\n      <td>130.61</td>\n      <td>999.0</td>\n      <td>20.6</td>\n      <td>350.0</td>\n      <td>N</td>\n      <td>2.272897</td>\n      <td>3.797903</td>\n    </tr>\n    <tr>\n      <th>24426</th>\n      <td>Carlos</td>\n      <td>2011-02-15 21:00:00</td>\n      <td>T</td>\n      <td>3.0</td>\n      <td>2.0</td>\n      <td>30.0</td>\n      <td>-12.54</td>\n      <td>130.72</td>\n      <td>993.0</td>\n      <td>18.0</td>\n      <td>210.0</td>\n      <td>SW</td>\n      <td>2.801605</td>\n      <td>5.026852</td>\n    </tr>\n    <tr>\n      <th>24429</th>\n      <td>Carlos</td>\n      <td>2011-02-16 00:00:00</td>\n      <td>T</td>\n      <td>3.0</td>\n      <td>2.0</td>\n      <td>30.0</td>\n      <td>-12.41</td>\n      <td>130.99</td>\n      <td>995.0</td>\n      <td>18.0</td>\n      <td>210.0</td>\n      <td>SW</td>\n      <td>2.638106</td>\n      <td>4.637562</td>\n    </tr>\n    <tr>\n      <th>24438</th>\n      <td>Carlos</td>\n      <td>2011-02-16 09:00:00</td>\n      <td>T</td>\n      <td>3.0</td>\n      <td>2.0</td>\n      <td>30.0</td>\n      <td>-12.54</td>\n      <td>130.98</td>\n      <td>994.0</td>\n      <td>20.6</td>\n      <td>220.0</td>\n      <td>SW</td>\n      <td>2.721184</td>\n      <td>4.834374</td>\n    </tr>\n  </tbody>\n</table>\n<p>1691 rows × 14 columns</p>\n</div>"
     },
     "metadata": {},
     "execution_count": 44
    }
   ],
   "source": [
    "data_ml"
   ]
  },
  {
   "cell_type": "code",
   "execution_count": 88,
   "id": "false-distinction",
   "metadata": {},
   "outputs": [
    {
     "output_type": "execute_result",
     "data": {
      "text/plain": [
       "         NAME  CYC_TYPE\n",
       "16374  Rosita      20.0\n",
       "16375  Rosita      20.0\n",
       "16376  Rosita      20.0\n",
       "16377  Rosita      20.0\n",
       "16378  Rosita      20.0\n",
       "...       ...       ...\n",
       "28077  Noname       NaN\n",
       "28078  Noname       NaN\n",
       "28079  Noname       NaN\n",
       "28080  Noname       NaN\n",
       "28081  Noname       NaN\n",
       "\n",
       "[11708 rows x 2 columns]"
      ],
      "text/html": "<div>\n<style scoped>\n    .dataframe tbody tr th:only-of-type {\n        vertical-align: middle;\n    }\n\n    .dataframe tbody tr th {\n        vertical-align: top;\n    }\n\n    .dataframe thead th {\n        text-align: right;\n    }\n</style>\n<table border=\"1\" class=\"dataframe\">\n  <thead>\n    <tr style=\"text-align: right;\">\n      <th></th>\n      <th>NAME</th>\n      <th>CYC_TYPE</th>\n    </tr>\n  </thead>\n  <tbody>\n    <tr>\n      <th>16374</th>\n      <td>Rosita</td>\n      <td>20.0</td>\n    </tr>\n    <tr>\n      <th>16375</th>\n      <td>Rosita</td>\n      <td>20.0</td>\n    </tr>\n    <tr>\n      <th>16376</th>\n      <td>Rosita</td>\n      <td>20.0</td>\n    </tr>\n    <tr>\n      <th>16377</th>\n      <td>Rosita</td>\n      <td>20.0</td>\n    </tr>\n    <tr>\n      <th>16378</th>\n      <td>Rosita</td>\n      <td>20.0</td>\n    </tr>\n    <tr>\n      <th>...</th>\n      <td>...</td>\n      <td>...</td>\n    </tr>\n    <tr>\n      <th>28077</th>\n      <td>Noname</td>\n      <td>NaN</td>\n    </tr>\n    <tr>\n      <th>28078</th>\n      <td>Noname</td>\n      <td>NaN</td>\n    </tr>\n    <tr>\n      <th>28079</th>\n      <td>Noname</td>\n      <td>NaN</td>\n    </tr>\n    <tr>\n      <th>28080</th>\n      <td>Noname</td>\n      <td>NaN</td>\n    </tr>\n    <tr>\n      <th>28081</th>\n      <td>Noname</td>\n      <td>NaN</td>\n    </tr>\n  </tbody>\n</table>\n<p>11708 rows × 2 columns</p>\n</div>"
     },
     "metadata": {},
     "execution_count": 88
    }
   ],
   "source": [
    "cyclone_names = data_df[[\"NAME\", \"CYC_TYPE\"]]\n",
    "cyclone_names\n",
    "cyclone_names[\"NAME\"]=cyclone_names[\"NAME\"].apply(lambda x: x.strip().title())\n",
    "cyclone_names"
   ]
  },
  {
   "cell_type": "code",
   "execution_count": 89,
   "metadata": {},
   "outputs": [
    {
     "output_type": "execute_result",
     "data": {
      "text/plain": [
       "'Emma-Kate'"
      ]
     },
     "metadata": {},
     "execution_count": 89
    }
   ],
   "source": [
    "test_string = \"Emma-Kate\"\n",
    "test_output = test_string.title()\n",
    "test_output\n"
   ]
  },
  {
   "cell_type": "code",
   "execution_count": null,
   "id": "latest-happiness",
   "metadata": {},
   "outputs": [],
   "source": []
  },
  {
   "cell_type": "code",
   "execution_count": null,
   "id": "social-programming",
   "metadata": {},
   "outputs": [],
   "source": []
  }
 ],
 "metadata": {
  "kernelspec": {
   "display_name": "Python 3",
   "language": "python",
   "name": "python3"
  },
  "language_info": {
   "codemirror_mode": {
    "name": "ipython",
    "version": 3
   },
   "file_extension": ".py",
   "mimetype": "text/x-python",
   "name": "python",
   "nbconvert_exporter": "python",
   "pygments_lexer": "ipython3",
   "version": "3.7.1-final"
  }
 },
 "nbformat": 4,
 "nbformat_minor": 5
}